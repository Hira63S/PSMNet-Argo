{
 "cells": [
  {
   "cell_type": "markdown",
   "metadata": {},
   "source": [
    "# Matrics and Gradients"
   ]
  },
  {
   "cell_type": "code",
   "execution_count": 37,
   "metadata": {},
   "outputs": [],
   "source": [
    "import numpy as np\n",
    "import torch\n",
    "import torchvision"
   ]
  },
  {
   "cell_type": "code",
   "execution_count": 38,
   "metadata": {},
   "outputs": [],
   "source": [
    "X_train = np.array([[23, 32, 43, 343, 33, 44, 84, 34, 43, 423, 45, 56, 645, 254, 432],\n",
    "           [344, 3454, 32, 656, 783, 645, 23, 57, 23, 775, 232, 757, 864, 85, 33],\n",
    "           [23, 90, 233, 235, 907, 879, 402, 23, 44, 2323, 36, 232, 66, 232, 66],\n",
    "           [239, 845, 323, 664, 64, 42, 98, 903, 886, 332, 64, 892, 34, 240, 89],\n",
    "           [89, 23, 534, 134, 242, 53, 89, 775, 73, 353, 80, 489, 235, 24, 64]])"
   ]
  },
  {
   "cell_type": "raw",
   "metadata": {},
   "source": [
    "for i in X_train:\n",
    "    squares = np.sum(i)\n",
    "    print(squares)"
   ]
  },
  {
   "cell_type": "raw",
   "metadata": {},
   "source": [
    "for i in X_test:\n",
    "    squares = np.sum(i)\n",
    "    print(squares)"
   ]
  },
  {
   "cell_type": "code",
   "execution_count": 39,
   "metadata": {},
   "outputs": [
    {
     "data": {
      "text/plain": [
       "(5,)"
      ]
     },
     "execution_count": 39,
     "metadata": {},
     "output_type": "execute_result"
    }
   ],
   "source": [
    "y = np.array([1, 2, 3, 2, 1])\n",
    "y.shape"
   ]
  },
  {
   "cell_type": "code",
   "execution_count": 40,
   "metadata": {},
   "outputs": [],
   "source": [
    "X_test = np.array([[34, 89, 42, 24, 64, 23, 136, 643, 42, 633, 249, 24, 89, 23, 52],\n",
    "                   [224, 646, 324, 89, 535, 64, 42, 64, 42, 646, 89, 909, 42, 53, 9],\n",
    "                   [23, 456, 42, 646, 75, 24, 189, 53, 64, 89, 635, 89, 42, 63, 23],\n",
    "                   [239, 845, 323, 664, 64, 42, 98, 903, 886, 332, 64, 892, 34, 240, 189]])"
   ]
  },
  {
   "cell_type": "code",
   "execution_count": 41,
   "metadata": {},
   "outputs": [],
   "source": [
    "num_test = X_test.shape[0]\n",
    "num_train = X_train.shape[0]"
   ]
  },
  {
   "cell_type": "code",
   "execution_count": 42,
   "metadata": {},
   "outputs": [],
   "source": [
    "# 3 rows and 5 columns for all the X_train examples\n",
    "dists = np.zeros((num_test, num_train))\n"
   ]
  },
  {
   "cell_type": "code",
   "execution_count": 43,
   "metadata": {},
   "outputs": [],
   "source": [
    "for i in range(X_test.shape[0]):\n",
    "    for j in range(X_train.shape[0]):\n",
    "        \n",
    "        dists[i, j] = np.sqrt(np.sum(np.square(X_test[i]-X_train[j])))"
   ]
  },
  {
   "cell_type": "code",
   "execution_count": 15,
   "metadata": {},
   "outputs": [
    {
     "data": {
      "text/plain": [
       "array([[1036.22246646, 3773.82988488, 2229.08232239, 1677.37771536,\n",
       "         812.01600969],\n",
       "       [1475.85771672, 3073.00032541, 2149.96767418, 1467.34897008,\n",
       "        1162.14672051],\n",
       "       [1146.16447336, 3429.70844242, 2685.19422016, 1658.25812225,\n",
       "        1354.37070258],\n",
       "       [1869.79704781, 3198.32612471, 2865.74632513,  100.        ,\n",
       "        1413.7298186 ]])"
      ]
     },
     "execution_count": 15,
     "metadata": {},
     "output_type": "execute_result"
    }
   ],
   "source": [
    "dists"
   ]
  },
  {
   "cell_type": "code",
   "execution_count": 16,
   "metadata": {},
   "outputs": [
    {
     "data": {
      "text/plain": [
       "array([[4, 0, 3, 2, 1],\n",
       "       [4, 3, 0, 2, 1],\n",
       "       [0, 4, 3, 2, 1],\n",
       "       [3, 4, 0, 2, 1]], dtype=int64)"
      ]
     },
     "execution_count": 16,
     "metadata": {},
     "output_type": "execute_result"
    }
   ],
   "source": [
    "np.argsort(dists)\n",
    "# dists.sort(key=lambda tup: tup[1])"
   ]
  },
  {
   "cell_type": "code",
   "execution_count": 17,
   "metadata": {},
   "outputs": [
    {
     "name": "stdout",
     "output_type": "stream",
     "text": [
      "[4 0 3 2 1]\n",
      "[4 3 0 2 1]\n",
      "[0 4 3 2 1]\n",
      "[3 4 0 2 1]\n"
     ]
    }
   ],
   "source": [
    "closest_y = []\n",
    "for i in sorted_dists:\n",
    "#     print(y[k][0])\n",
    "    print(i)\n",
    "    \n",
    "#     print('y[k]:', y[k])\n",
    "#     closest_y.ppend(y[k][0])\n",
    "    "
   ]
  },
  {
   "cell_type": "code",
   "execution_count": 18,
   "metadata": {},
   "outputs": [],
   "source": [
    "k = 1\n",
    "closest_y = []\n",
    "for i in range(k):\n",
    "    closest_y.append(sorted_dists[i][0])\n",
    "    \n",
    "#     closest_y.append(y[sorted_dists[i]])\n",
    "# closest_y.append(y[sorted_dists][k])\n"
   ]
  },
  {
   "cell_type": "code",
   "execution_count": 19,
   "metadata": {},
   "outputs": [
    {
     "name": "stdout",
     "output_type": "stream",
     "text": [
      "[4]\n"
     ]
    }
   ],
   "source": [
    "print(closest_y)"
   ]
  },
  {
   "cell_type": "code",
   "execution_count": 120,
   "metadata": {},
   "outputs": [
    {
     "name": "stdout",
     "output_type": "stream",
     "text": [
      "[1, 1, 1, 2]\n"
     ]
    }
   ],
   "source": [
    "closest_y = []\n",
    "for i in sorted_dists:\n",
    "#     print(i)\n",
    "    closest = i[0]\n",
    "    closest_y.append(y[closest])\n",
    "print(closest_y)"
   ]
  },
  {
   "cell_type": "code",
   "execution_count": 128,
   "metadata": {},
   "outputs": [],
   "source": [
    "# most common label in labels:\n",
    "num_neighbors = X_train.shape[0]"
   ]
  },
  {
   "cell_type": "code",
   "execution_count": 129,
   "metadata": {},
   "outputs": [
    {
     "data": {
      "text/plain": [
       "5"
      ]
     },
     "execution_count": 129,
     "metadata": {},
     "output_type": "execute_result"
    }
   ],
   "source": [
    "num_neighbors"
   ]
  },
  {
   "cell_type": "code",
   "execution_count": 127,
   "metadata": {},
   "outputs": [
    {
     "name": "stdout",
     "output_type": "stream",
     "text": [
      "3\n",
      "4\n",
      "4\n",
      "0\n",
      "3\n",
      "3\n",
      "4\n",
      "4\n",
      "0\n",
      "3\n",
      "3\n",
      "4\n",
      "4\n",
      "0\n",
      "3\n",
      "3\n",
      "4\n",
      "4\n",
      "0\n",
      "3\n"
     ]
    }
   ],
   "source": [
    "# closest_y = []\n",
    "for i in range(num_test):\n",
    "    closest_y = []\n",
    "    sorted_dists = np.argsort(dists)\n",
    "    print(closest)\n",
    "    for i in range(sorted_dists):\n",
    "#     print(i)\n",
    "        closest = i[0]\n",
    "        print(closest)\n",
    "#         closest_y.append(y[closest])\n",
    "#     y_pred[i] = max(set(closest_y), key=closest_y.count)\n",
    "    \n",
    "#     closest_y.append(sorted_dists[i][0])\n",
    "    \n",
    "    "
   ]
  },
  {
   "cell_type": "code",
   "execution_count": 114,
   "metadata": {},
   "outputs": [
    {
     "data": {
      "text/plain": [
       "[4, 4, 0, 3]"
      ]
     },
     "execution_count": 114,
     "metadata": {},
     "output_type": "execute_result"
    }
   ],
   "source": [
    "closest_y"
   ]
  },
  {
   "cell_type": "code",
   "execution_count": 57,
   "metadata": {},
   "outputs": [],
   "source": [
    "minInRows = np.amin(dists, axis=1)"
   ]
  },
  {
   "cell_type": "code",
   "execution_count": 59,
   "metadata": {},
   "outputs": [
    {
     "name": "stdout",
     "output_type": "stream",
     "text": [
      "(array([], dtype=int64),)\n"
     ]
    },
    {
     "name": "stderr",
     "output_type": "stream",
     "text": [
      "<ipython-input-59-3b829d74b737>:1: DeprecationWarning: elementwise comparison failed; this will raise an error in the future.\n",
      "  result = np.where(dists == np.amin(dists, axis=1))\n"
     ]
    }
   ],
   "source": [
    "result = np.where(dists == np.amin(dists, axis=1))\n",
    "print(result)"
   ]
  },
  {
   "cell_type": "code",
   "execution_count": 62,
   "metadata": {},
   "outputs": [
    {
     "data": {
      "text/plain": [
       "array([[4979.0437837 , 3772.16012385, 9623.92892742, 1678.09296524,\n",
       "         812.38537653],\n",
       "       [5029.83657786, 3073.00032541, 9596.99749922, 1467.34897008,\n",
       "        1162.14672051],\n",
       "       [4964.12459554, 3426.32456139, 9690.0396284 , 1655.78380231,\n",
       "        1350.67390587]])"
      ]
     },
     "execution_count": 62,
     "metadata": {},
     "output_type": "execute_result"
    }
   ],
   "source": [
    "dists"
   ]
  },
  {
   "cell_type": "code",
   "execution_count": 63,
   "metadata": {},
   "outputs": [
    {
     "name": "stdout",
     "output_type": "stream",
     "text": [
      "4\n",
      "4\n",
      "4\n"
     ]
    }
   ],
   "source": [
    "for i in dists:\n",
    "    min_i = np.argmin(i, axis=0)\n",
    "    print(min_i)"
   ]
  },
  {
   "cell_type": "code",
   "execution_count": 65,
   "metadata": {},
   "outputs": [
    {
     "name": "stdout",
     "output_type": "stream",
     "text": [
      "[1]\n",
      "[1, 1]\n",
      "[1, 1, 1]\n"
     ]
    }
   ],
   "source": [
    "# predict_labels\n",
    "\n",
    "# -dists: matrix of distances\n",
    "# in dists: 1st image has the minimum distance at 812 so it should get the test label at 812.\n",
    "# the 2nd image has min distance at 1162 and so, it should get the same distnace\n",
    "# same is hte case for the third image \n",
    "# y_test = []\n",
    "labels = []\n",
    "for i in dists:\n",
    "    # get the minimum\n",
    "#     indices_dists = np.min(i)\n",
    "    \n",
    "    # get it's index \n",
    "    min_i = np.argmin(i, axis=0)\n",
    "    labels.append(y[min_i])\n",
    "    \n",
    "#     min_index = np.where(dists == np.amin(dists, axis=1))\n",
    "#     y_test.append(min_index[1])\n",
    "#     y_test = list(zip(min_index[1]))\n",
    "#     print(min_index)\n",
    "#     print(type(min_index))\n",
    "    print(labels)\n",
    "    # get the indices first\n",
    "    # then get the value for those form y by doing y[i]\n",
    "#     y_test.append(y[i])\n",
    "    # get the index of the mininum from the dists numpy and compare it with y array\n",
    "#     y_test[i].append(np.min(i[]))"
   ]
  },
  {
   "cell_type": "code",
   "execution_count": 51,
   "metadata": {},
   "outputs": [
    {
     "data": {
      "text/plain": [
       "812.3853765301293"
      ]
     },
     "execution_count": 51,
     "metadata": {},
     "output_type": "execute_result"
    }
   ],
   "source": [
    "arr == numpy.amin(arr)"
   ]
  },
  {
   "cell_type": "raw",
   "metadata": {},
   "source": [
    "for j in dists:\n",
    "    min_in = np.min(j)\n",
    "    print(min_in)\n",
    "    print(dists[0][min_in])"
   ]
  },
  {
   "cell_type": "raw",
   "metadata": {},
   "source": [
    "# for every array in j\n",
    "y_test = []\n",
    "for j in dists:\n",
    "    # go to the minimum value:\n",
    "    min_index = (dists[np.min(j)])\n",
    "    print(min_index)\n",
    "    y_test.append(y[min_index])"
   ]
  },
  {
   "cell_type": "code",
   "execution_count": 37,
   "metadata": {},
   "outputs": [
    {
     "data": {
      "text/plain": [
       "[(4,)]"
      ]
     },
     "execution_count": 37,
     "metadata": {},
     "output_type": "execute_result"
    }
   ],
   "source": [
    "y_test"
   ]
  },
  {
   "cell_type": "markdown",
   "metadata": {},
   "source": [
    "# Broadcasting"
   ]
  },
  {
   "cell_type": "code",
   "execution_count": 44,
   "metadata": {},
   "outputs": [
    {
     "name": "stdout",
     "output_type": "stream",
     "text": [
      "[[ 56.    0.    4.4  68. ]\n",
      " [  1.2 104.   52.    0. ]\n",
      " [  1.8 135.   99.    0.9]]\n"
     ]
    }
   ],
   "source": [
    "A = np.array([[56.0, 0.0, 4.4, 68.0],\n",
    "              [1.2, 104.0, 52.0, 0.0],\n",
    "              [1.8, 135.0,99.0, 0.9]])\n",
    "\n",
    "print(A)"
   ]
  },
  {
   "cell_type": "code",
   "execution_count": 86,
   "metadata": {},
   "outputs": [
    {
     "name": "stdout",
     "output_type": "stream",
     "text": [
      "[ 59.  239.  155.4  68.9]\n"
     ]
    }
   ],
   "source": [
    "cal = A.sum(axis=0)\n",
    "print(cal)"
   ]
  },
  {
   "cell_type": "code",
   "execution_count": 88,
   "metadata": {},
   "outputs": [
    {
     "name": "stdout",
     "output_type": "stream",
     "text": [
      "[[94.91525424  0.          2.83140283 98.69375907]\n",
      " [ 2.03389831 43.51464435 33.46203346  0.        ]\n",
      " [ 3.05084746 56.48535565 63.70656371  1.30624093]]\n"
     ]
    }
   ],
   "source": [
    "percentage = 100*A/cal.reshape(1,4)\n",
    "print(percentage)"
   ]
  },
  {
   "cell_type": "code",
   "execution_count": 89,
   "metadata": {},
   "outputs": [
    {
     "data": {
      "text/plain": [
       "array([[4979.0437837 , 3772.16012385, 9623.92892742, 1678.09296524,\n",
       "         812.38537653],\n",
       "       [5029.83657786, 3073.00032541, 9596.99749922, 1467.34897008,\n",
       "        1162.14672051],\n",
       "       [4964.12459554, 3426.32456139, 9690.0396284 , 1655.78380231,\n",
       "        1350.67390587]])"
      ]
     },
     "execution_count": 89,
     "metadata": {},
     "output_type": "execute_result"
    }
   ],
   "source": [
    "# if only one dimension of a matrix and vector matches, Python will copy the vector to make it\n",
    "# look like the same shape as the matrix and then, we add them elementwise.\n",
    "# the row refers to test_point\n",
    "# the column refers to training point\n",
    "dists"
   ]
  },
  {
   "cell_type": "code",
   "execution_count": 90,
   "metadata": {},
   "outputs": [
    {
     "data": {
      "text/plain": [
       "(3, 5)"
      ]
     },
     "execution_count": 90,
     "metadata": {},
     "output_type": "execute_result"
    }
   ],
   "source": [
    "dists.shape"
   ]
  },
  {
   "cell_type": "code",
   "execution_count": 93,
   "metadata": {},
   "outputs": [],
   "source": [
    "num_test = dists.shape[0]\n"
   ]
  },
  {
   "cell_type": "code",
   "execution_count": 94,
   "metadata": {},
   "outputs": [
    {
     "name": "stdout",
     "output_type": "stream",
     "text": [
      "[0. 0. 0.]\n"
     ]
    }
   ],
   "source": [
    "y_pred = np.zeros(num_test)\n",
    "print(y_pred)"
   ]
  },
  {
   "cell_type": "code",
   "execution_count": 95,
   "metadata": {},
   "outputs": [
    {
     "name": "stdout",
     "output_type": "stream",
     "text": [
      "[[4 3 1 0 2]\n",
      " [4 3 1 0 2]\n",
      " [4 3 1 0 2]]\n"
     ]
    }
   ],
   "source": [
    "sorted_dist = np.argsort(dists)\n",
    "print(sorted_dist)"
   ]
  },
  {
   "cell_type": "code",
   "execution_count": 102,
   "metadata": {},
   "outputs": [
    {
     "name": "stdout",
     "output_type": "stream",
     "text": [
      "[[4 3 1 0 2]\n",
      " [4 3 1 0 2]\n",
      " [4 3 1 0 2]]\n",
      "4\n",
      "[[4 3 1 0 2]\n",
      " [4 3 1 0 2]\n",
      " [4 3 1 0 2]]\n",
      "4\n",
      "[[4 3 1 0 2]\n",
      " [4 3 1 0 2]\n",
      " [4 3 1 0 2]]\n",
      "4\n"
     ]
    }
   ],
   "source": [
    "for i in range(num_test):\n",
    "    closest_y = []\n",
    "    \n",
    "    sorted_dists = np.argsort(dists)\n",
    "    print(sorted_dists)\n",
    "    print(sorted_dists[i][0])\n",
    "    closest_y.append(sorted_dists[i][0])\n",
    "    \n",
    "    "
   ]
  },
  {
   "cell_type": "code",
   "execution_count": 103,
   "metadata": {},
   "outputs": [
    {
     "data": {
      "text/plain": [
       "[4]"
      ]
     },
     "execution_count": 103,
     "metadata": {},
     "output_type": "execute_result"
    }
   ],
   "source": [
    "closest_y"
   ]
  },
  {
   "cell_type": "code",
   "execution_count": 2,
   "metadata": {},
   "outputs": [],
   "source": [
    "import numpy as np"
   ]
  },
  {
   "cell_type": "code",
   "execution_count": 68,
   "metadata": {},
   "outputs": [
    {
     "data": {
      "text/plain": [
       "array([[0.52, 1.2 , 0.63],\n",
       "       [0.65, 1.36, 0.81],\n",
       "       [0.57, 1.19, 0.64]])"
      ]
     },
     "execution_count": 68,
     "metadata": {},
     "output_type": "execute_result"
    }
   ],
   "source": [
    "X = np.array([[2, 3, 1, 2, 3, 2, 1, 3, 4, 4],\n",
    "              [3, 3, 1, 2, 4, 5, 3, 5, 3, 2],\n",
    "              [1, 2, 1, 3, 5, 4, 3, 4, 2, 1]])\n",
    "W = np.array([[0.02, 0.01, 0.03],\n",
    "              [0.04, 0.04, 0.03],\n",
    "              [0.01, 0.05, 0.02],\n",
    "              [0.05, 0.01, 0.01],\n",
    "              [0.01, 0.09, 0.01],\n",
    "              [0.02, 0.04, 0.02],\n",
    "              [0.03, 0.01, 0.07],\n",
    "              [0.01, 0.05, 0.02],\n",
    "              [0.02, 0.06, 0.02],\n",
    "              [0.01, 0.06, 0.04]])\n",
    "\n",
    "scores= np.dot(X, W)\n",
    "scores"
   ]
  },
  {
   "cell_type": "code",
   "execution_count": 74,
   "metadata": {},
   "outputs": [
    {
     "data": {
      "text/plain": [
       "3"
      ]
     },
     "execution_count": 74,
     "metadata": {},
     "output_type": "execute_result"
    }
   ],
   "source": [
    "scores.shape[0]"
   ]
  },
  {
   "cell_type": "code",
   "execution_count": 75,
   "metadata": {},
   "outputs": [
    {
     "data": {
      "text/plain": [
       "3"
      ]
     },
     "execution_count": 75,
     "metadata": {},
     "output_type": "execute_result"
    }
   ],
   "source": [
    "reg = 1"
   ]
  },
  {
   "cell_type": "code",
   "execution_count": 72,
   "metadata": {},
   "outputs": [],
   "source": [
    "# scores for the correct classes\n",
    "yi_scores = scores[np.arange(scores.shape[0]), y]"
   ]
  },
  {
   "cell_type": "code",
   "execution_count": 73,
   "metadata": {},
   "outputs": [
    {
     "data": {
      "text/plain": [
       "matrix([[0.32, 1.  , 0.43],\n",
       "        [0.84, 1.55, 1.  ],\n",
       "        [0.38, 1.  , 0.45]])"
      ]
     },
     "execution_count": 73,
     "metadata": {},
     "output_type": "execute_result"
    }
   ],
   "source": [
    "margins = np.maximum(0, (scores - np.matrix(yi_scores).T + 1))\n",
    "margins"
   ]
  },
  {
   "cell_type": "code",
   "execution_count": 76,
   "metadata": {},
   "outputs": [],
   "source": [
    "margins[np.arange(num_train), y] = 0"
   ]
  },
  {
   "cell_type": "code",
   "execution_count": 87,
   "metadata": {},
   "outputs": [],
   "source": [
    "reg = 0.000005"
   ]
  },
  {
   "cell_type": "code",
   "execution_count": 88,
   "metadata": {},
   "outputs": [],
   "source": [
    "loss = np.mean(np.sum(margins, axis=1))\n",
    "loss += 0.5* reg * np.sum(W * W)"
   ]
  },
  {
   "cell_type": "code",
   "execution_count": 89,
   "metadata": {},
   "outputs": [
    {
     "data": {
      "text/plain": [
       "1.0125000000000001e-07"
      ]
     },
     "execution_count": 89,
     "metadata": {},
     "output_type": "execute_result"
    }
   ],
   "source": [
    "loss"
   ]
  },
  {
   "cell_type": "code",
   "execution_count": 90,
   "metadata": {},
   "outputs": [],
   "source": [
    "binary = margins\n",
    "\n",
    "binary[margins > 0] = 1\n",
    "row_sum = np.sum(binary, axis=1)\n",
    "binary[np.arange(num_train), y] = -row_sum.T\n",
    "\n",
    "dW = np.dot(X.T, binary)"
   ]
  },
  {
   "cell_type": "code",
   "execution_count": 91,
   "metadata": {},
   "outputs": [],
   "source": [
    "# Average\n",
    "dW /= num_train \n",
    "dW += reg * W\n"
   ]
  },
  {
   "cell_type": "code",
   "execution_count": 92,
   "metadata": {},
   "outputs": [
    {
     "data": {
      "text/plain": [
       "matrix([[2.0000001 , 1.00000005, 1.00000015],\n",
       "        [2.66666687, 1.0000002 , 1.66666682],\n",
       "        [1.00000005, 0.33333358, 0.66666677],\n",
       "        [2.33333358, 0.66666672, 1.66666672],\n",
       "        [4.00000005, 1.33333378, 2.66666672],\n",
       "        [3.66666677, 1.66666687, 2.0000001 ],\n",
       "        [2.33333348, 1.00000005, 1.33333368],\n",
       "        [4.00000005, 1.66666692, 2.33333343],\n",
       "        [3.0000001 , 1.0000003 , 2.0000001 ],\n",
       "        [2.33333338, 0.66666697, 1.66666687]])"
      ]
     },
     "execution_count": 92,
     "metadata": {},
     "output_type": "execute_result"
    }
   ],
   "source": [
    "dW"
   ]
  },
  {
   "cell_type": "code",
   "execution_count": 86,
   "metadata": {},
   "outputs": [],
   "source": [
    "# since we only calculate the loss where the j is not equal to y_i\n"
   ]
  },
  {
   "cell_type": "code",
   "execution_count": 77,
   "metadata": {},
   "outputs": [
    {
     "data": {
      "text/plain": [
       "matrix([[0.32, 0.  , 0.43],\n",
       "        [0.84, 1.55, 0.  ],\n",
       "        [0.38, 0.  , 0.45]])"
      ]
     },
     "execution_count": 77,
     "metadata": {},
     "output_type": "execute_result"
    }
   ],
   "source": [
    "margins"
   ]
  },
  {
   "cell_type": "code",
   "execution_count": 49,
   "metadata": {},
   "outputs": [],
   "source": [
    "y = np.array([1, 2, 1])\n"
   ]
  },
  {
   "cell_type": "code",
   "execution_count": 50,
   "metadata": {},
   "outputs": [],
   "source": [
    "dW = np.zeros(W.shape)"
   ]
  },
  {
   "cell_type": "code",
   "execution_count": 65,
   "metadata": {},
   "outputs": [],
   "source": [
    "dW = np.zeros(W.shape)\n",
    "loss = 0.0\n",
    "num_classes = W.shape[1]\n",
    "num_train = X.shape[0]\n",
    "\n",
    "scores = np.dot(X, W)\n",
    "correct_class_score = scores[y]\n"
   ]
  },
  {
   "cell_type": "code",
   "execution_count": 66,
   "metadata": {},
   "outputs": [
    {
     "data": {
      "text/plain": [
       "array([[0.65, 1.36, 0.81],\n",
       "       [0.57, 1.19, 0.64],\n",
       "       [0.65, 1.36, 0.81]])"
      ]
     },
     "execution_count": 66,
     "metadata": {},
     "output_type": "execute_result"
    }
   ],
   "source": [
    "scores[y]"
   ]
  },
  {
   "cell_type": "code",
   "execution_count": 67,
   "metadata": {},
   "outputs": [
    {
     "data": {
      "text/plain": [
       "array([[0.52, 1.2 , 0.63],\n",
       "       [0.65, 1.36, 0.81],\n",
       "       [0.57, 1.19, 0.64]])"
      ]
     },
     "execution_count": 67,
     "metadata": {},
     "output_type": "execute_result"
    }
   ],
   "source": [
    "scores"
   ]
  },
  {
   "cell_type": "code",
   "execution_count": 61,
   "metadata": {},
   "outputs": [],
   "source": [
    "margin = (scores - correct_scores + 1)"
   ]
  },
  {
   "cell_type": "code",
   "execution_count": 62,
   "metadata": {},
   "outputs": [
    {
     "data": {
      "text/plain": [
       "array([[0.87, 0.84, 0.82],\n",
       "       [1.08, 1.17, 1.17],\n",
       "       [0.92, 0.83, 0.83]])"
      ]
     },
     "execution_count": 62,
     "metadata": {},
     "output_type": "execute_result"
    }
   ],
   "source": [
    "margin"
   ]
  },
  {
   "cell_type": "code",
   "execution_count": null,
   "metadata": {},
   "outputs": [],
   "source": [
    "for j in range(num_classes):\n",
    "    margin = (scores[j] - correct_scores + 1)\n",
    "    if margin.any() > 0:\n",
    "        \n",
    "    "
   ]
  },
  {
   "cell_type": "code",
   "execution_count": null,
   "metadata": {},
   "outputs": [],
   "source": []
  },
  {
   "cell_type": "code",
   "execution_count": 51,
   "metadata": {},
   "outputs": [],
   "source": [
    "\n",
    "# for i in range(X.shape[0]):\n",
    "dW = np.zeros(W.shape)\n",
    "loss = 0.0\n",
    "num_classes = W.shape[1]\n",
    "num_train = X.shape[0]\n",
    "for i in range(num_train):\n",
    "    scores = np.dot(X[i], W)\n",
    "    correct_score = scores[y[i]]\n",
    "\n",
    "    for j in range(num_classes):\n",
    "        margin = (scores[j] - correct_score + 1)\n",
    "\n",
    "        if margin > 0:\n",
    "            loss += margin\n",
    "            # for all the classes other than the y[i] classes, += X[i,:]\n",
    "            dW[:, j] += X[i, :]\n",
    "        \n",
    "            dW[:, y[i]] -= X[i, :]\n",
    "                "
   ]
  },
  {
   "cell_type": "code",
   "execution_count": 52,
   "metadata": {},
   "outputs": [
    {
     "data": {
      "text/plain": [
       "array([0.57, 1.19, 0.64])"
      ]
     },
     "execution_count": 52,
     "metadata": {},
     "output_type": "execute_result"
    }
   ],
   "source": [
    "scores"
   ]
  },
  {
   "cell_type": "code",
   "execution_count": 45,
   "metadata": {},
   "outputs": [],
   "source": [
    "X = np.array([[2, 3, 1, 2, 3, 2, 1, 3, 4, 4],\n",
    "              [3, 3, 1, 2, 4, 5, 3, 5, 3, 2],\n",
    "              [1, 2, 1, 3, 5, 4, 3, 4, 2, 1]])"
   ]
  },
  {
   "cell_type": "code",
   "execution_count": 46,
   "metadata": {},
   "outputs": [
    {
     "data": {
      "text/plain": [
       "array([[2, 3, 1, 2, 3, 2, 1, 3, 4, 4],\n",
       "       [3, 3, 1, 2, 4, 5, 3, 5, 3, 2],\n",
       "       [1, 2, 1, 3, 5, 4, 3, 4, 2, 1]])"
      ]
     },
     "execution_count": 46,
     "metadata": {},
     "output_type": "execute_result"
    }
   ],
   "source": [
    "X"
   ]
  },
  {
   "cell_type": "code",
   "execution_count": 36,
   "metadata": {},
   "outputs": [
    {
     "data": {
      "text/plain": [
       "array([[  6.,  -3.,  -3.],\n",
       "       [  8.,  -7.,  -1.],\n",
       "       [  3.,  -3.,   0.],\n",
       "       [  7.,  -8.,   1.],\n",
       "       [ 12., -12.,   0.],\n",
       "       [ 11.,  -7.,  -4.],\n",
       "       [  7.,  -5.,  -2.],\n",
       "       [ 12.,  -9.,  -3.],\n",
       "       [  9.,  -9.,   0.],\n",
       "       [  7.,  -8.,   1.]])"
      ]
     },
     "execution_count": 36,
     "metadata": {},
     "output_type": "execute_result"
    }
   ],
   "source": [
    "dW"
   ]
  },
  {
   "cell_type": "code",
   "execution_count": 24,
   "metadata": {},
   "outputs": [
    {
     "data": {
      "text/plain": [
       "array([[ 6.,  6.,  6.],\n",
       "       [ 8.,  8.,  8.],\n",
       "       [ 3.,  3.,  3.],\n",
       "       [ 7.,  7.,  7.],\n",
       "       [12., 12., 12.],\n",
       "       [11., 11., 11.],\n",
       "       [ 7.,  7.,  7.],\n",
       "       [12., 12., 12.],\n",
       "       [ 9.,  9.,  9.],\n",
       "       [ 7.,  7.,  7.]])"
      ]
     },
     "execution_count": 24,
     "metadata": {},
     "output_type": "execute_result"
    }
   ],
   "source": [
    "dW"
   ]
  },
  {
   "cell_type": "code",
   "execution_count": null,
   "metadata": {},
   "outputs": [],
   "source": []
  },
  {
   "cell_type": "code",
   "execution_count": 5,
   "metadata": {},
   "outputs": [
    {
     "data": {
      "text/plain": [
       "0.34"
      ]
     },
     "execution_count": 5,
     "metadata": {},
     "output_type": "execute_result"
    }
   ],
   "source": [
    "correct_class_score = scores[y]\n",
    "correct_class_score"
   ]
  },
  {
   "cell_type": "code",
   "execution_count": 16,
   "metadata": {},
   "outputs": [],
   "source": [
    "# that is the score for the correct class\n",
    "# what we are trying to do is minimize the loss for that class\n",
    "# so we are going to calculate the loss:\n",
    "loss = 0.0\n",
    "for j in range(3):\n",
    "    if j == y:\n",
    "        continue\n",
    "    margin = (scores[j] - correct_class_score + 1)\n",
    "    if margin >0:\n",
    "        loss += margin\n",
    "        \n",
    "        dW[:, j] += X\n",
    "        dW[:, y] -= X\n",
    "        "
   ]
  },
  {
   "cell_type": "code",
   "execution_count": 17,
   "metadata": {},
   "outputs": [
    {
     "data": {
      "text/plain": [
       "array([[ 4., -4.,  2.],\n",
       "       [ 6., -6.,  3.],\n",
       "       [ 8., -8.,  4.]])"
      ]
     },
     "execution_count": 17,
     "metadata": {},
     "output_type": "execute_result"
    }
   ],
   "source": [
    "dW"
   ]
  },
  {
   "cell_type": "code",
   "execution_count": 7,
   "metadata": {},
   "outputs": [
    {
     "data": {
      "text/plain": [
       "0.8899999999999999"
      ]
     },
     "execution_count": 7,
     "metadata": {},
     "output_type": "execute_result"
    }
   ],
   "source": [
    "margin"
   ]
  },
  {
   "cell_type": "code",
   "execution_count": 9,
   "metadata": {},
   "outputs": [
    {
     "data": {
      "text/plain": [
       "0.8899999999999999"
      ]
     },
     "execution_count": 9,
     "metadata": {},
     "output_type": "execute_result"
    }
   ],
   "source": [
    "margin"
   ]
  },
  {
   "cell_type": "code",
   "execution_count": 10,
   "metadata": {},
   "outputs": [
    {
     "name": "stdout",
     "output_type": "stream",
     "text": [
      "1.75\n"
     ]
    }
   ],
   "source": [
    "print(loss)"
   ]
  },
  {
   "cell_type": "code",
   "execution_count": 12,
   "metadata": {},
   "outputs": [],
   "source": [
    "dW = np.zeros(W.shape)"
   ]
  },
  {
   "cell_type": "code",
   "execution_count": 13,
   "metadata": {},
   "outputs": [
    {
     "data": {
      "text/plain": [
       "array([[0., 0., 0.],\n",
       "       [0., 0., 0.],\n",
       "       [0., 0., 0.]])"
      ]
     },
     "execution_count": 13,
     "metadata": {},
     "output_type": "execute_result"
    }
   ],
   "source": [
    "dW"
   ]
  },
  {
   "cell_type": "code",
   "execution_count": null,
   "metadata": {},
   "outputs": [],
   "source": []
  }
 ],
 "metadata": {
  "kernelspec": {
   "display_name": "Python 3",
   "language": "python",
   "name": "python3"
  },
  "language_info": {
   "codemirror_mode": {
    "name": "ipython",
    "version": 3
   },
   "file_extension": ".py",
   "mimetype": "text/x-python",
   "name": "python",
   "nbconvert_exporter": "python",
   "pygments_lexer": "ipython3",
   "version": "3.8.5"
  }
 },
 "nbformat": 4,
 "nbformat_minor": 4
}
