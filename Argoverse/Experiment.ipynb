{
 "cells": [
  {
   "cell_type": "markdown",
   "metadata": {},
   "source": [
    "# Testing file"
   ]
  },
  {
   "cell_type": "raw",
   "metadata": {},
   "source": [
    "!pip install opencv-contrib-python"
   ]
  },
  {
   "cell_type": "code",
   "execution_count": 1,
   "metadata": {},
   "outputs": [],
   "source": [
    "# from argoverse.data_loading.argoverse_tracking_loader import argoverse_tracking_loader\n",
    "\n",
    "import argoverse\n",
    "from argoverse.data_loading.argoverse_tracking_loader import ArgoverseTrackingLoader\n",
    "import os\n",
    "from shutil import copyfile\n",
    "from argoverse.utils import calibration\n",
    "import json\n",
    "import numpy as np\n",
    "from argoverse.utils.calibration import CameraConfig\n",
    "from argoverse.utils.cv2_plotting_utils import draw_clipped_line_segment\n",
    "from argoverse.utils.se3 import SE3\n",
    "from argoverse.utils.transform import quat2rotmat\n",
    "import math\n",
    "import os\n",
    "from typing import Union\n",
    "import numpy as np\n",
    "import pyntcloud\n",
    "import progressbar\n",
    "from time import sleep"
   ]
  },
  {
   "cell_type": "code",
   "execution_count": 2,
   "metadata": {},
   "outputs": [],
   "source": [
    "root_dir = 'C://users/cathx/repos/argoverse-api/'\n",
    "data_dir = root_dir + 'train/'"
   ]
  },
  {
   "cell_type": "code",
   "execution_count": 3,
   "metadata": {},
   "outputs": [
    {
     "name": "stderr",
     "output_type": "stream",
     "text": [
      "WARNING:argoverse.data_loading.synchronization_database:No corresponding stereo image at 315967661819717000: 176.11196 > 100.0 ms\n",
      "WARNING:argoverse.data_loading.synchronization_database:No corresponding stereo image at 315967661819717000: 176.107928 > 100.0 ms\n"
     ]
    }
   ],
   "source": [
    "argoverse_loader = ArgoverseTrackingLoader(data_dir)"
   ]
  },
  {
   "cell_type": "code",
   "execution_count": 6,
   "metadata": {},
   "outputs": [],
   "source": [
    "cams = ['ring_front_center',\n",
    "'ring_front_left',\n",
    "'ring_front_right',\n",
    "'ring_rear_left',\n",
    "'ring_rear_right',\n",
    "'ring_side_left',\n",
    "'ring_side_right',\n",
    "'stereo_front_left',\n",
    "'stereo_front_right']"
   ]
  },
  {
   "cell_type": "code",
   "execution_count": 10,
   "metadata": {},
   "outputs": [
    {
     "name": "stdout",
     "output_type": "stream",
     "text": [
      "<argoverse.utils.calibration.Calibration object at 0x000001EA2BFB08B0>\n",
      "<argoverse.utils.calibration.Calibration object at 0x000001EA332F2D90>\n",
      "<argoverse.utils.calibration.Calibration object at 0x000001EA332F27C0>\n",
      "<argoverse.utils.calibration.Calibration object at 0x000001EA332F2F70>\n",
      "<argoverse.utils.calibration.Calibration object at 0x000001EA332F2550>\n",
      "<argoverse.utils.calibration.Calibration object at 0x000001EA332F21F0>\n",
      "<argoverse.utils.calibration.Calibration object at 0x000001EA332F2370>\n",
      "<argoverse.utils.calibration.Calibration object at 0x000001EA332F27C0>\n",
      "<argoverse.utils.calibration.Calibration object at 0x000001EA332F21F0>\n",
      "<argoverse.utils.calibration.Calibration object at 0x000001EA2BFB01C0>\n",
      "<argoverse.utils.calibration.Calibration object at 0x000001EA332F2F10>\n",
      "<argoverse.utils.calibration.Calibration object at 0x000001EA332F2F70>\n",
      "<argoverse.utils.calibration.Calibration object at 0x000001EA332F2FA0>\n",
      "<argoverse.utils.calibration.Calibration object at 0x000001EA332F2220>\n",
      "<argoverse.utils.calibration.Calibration object at 0x000001EA332F2520>\n",
      "<argoverse.utils.calibration.Calibration object at 0x000001EA332F21F0>\n",
      "<argoverse.utils.calibration.Calibration object at 0x000001EA332F2F70>\n",
      "<argoverse.utils.calibration.Calibration object at 0x000001EA332F2520>\n",
      "<argoverse.utils.calibration.Calibration object at 0x000001EA2BFB0A00>\n",
      "<argoverse.utils.calibration.Calibration object at 0x000001EA332F2BE0>\n",
      "<argoverse.utils.calibration.Calibration object at 0x000001EA332F2550>\n",
      "<argoverse.utils.calibration.Calibration object at 0x000001EA332F2EB0>\n",
      "<argoverse.utils.calibration.Calibration object at 0x000001EA332F2910>\n",
      "<argoverse.utils.calibration.Calibration object at 0x000001EA332F2D90>\n",
      "<argoverse.utils.calibration.Calibration object at 0x000001EA332F2520>\n",
      "<argoverse.utils.calibration.Calibration object at 0x000001EA332F2550>\n",
      "<argoverse.utils.calibration.Calibration object at 0x000001EA332F2EB0>\n",
      "<argoverse.utils.calibration.Calibration object at 0x000001EA2BFB08E0>\n",
      "<argoverse.utils.calibration.Calibration object at 0x000001EA332F28B0>\n",
      "<argoverse.utils.calibration.Calibration object at 0x000001EA332F2220>\n",
      "<argoverse.utils.calibration.Calibration object at 0x000001EA332F2DF0>\n",
      "<argoverse.utils.calibration.Calibration object at 0x000001EA332F27C0>\n",
      "<argoverse.utils.calibration.Calibration object at 0x000001EA332F26D0>\n",
      "<argoverse.utils.calibration.Calibration object at 0x000001EA332F2EB0>\n",
      "<argoverse.utils.calibration.Calibration object at 0x000001EA332F2220>\n",
      "<argoverse.utils.calibration.Calibration object at 0x000001EA332F26D0>\n",
      "<argoverse.utils.calibration.Calibration object at 0x000001EA2BFB02B0>\n",
      "<argoverse.utils.calibration.Calibration object at 0x000001EA332F24F0>\n",
      "<argoverse.utils.calibration.Calibration object at 0x000001EA332F2910>\n",
      "<argoverse.utils.calibration.Calibration object at 0x000001EA332F2370>\n",
      "<argoverse.utils.calibration.Calibration object at 0x000001EA332F20A0>\n",
      "<argoverse.utils.calibration.Calibration object at 0x000001EA332F21F0>\n",
      "<argoverse.utils.calibration.Calibration object at 0x000001EA332F26D0>\n",
      "<argoverse.utils.calibration.Calibration object at 0x000001EA332F2910>\n",
      "<argoverse.utils.calibration.Calibration object at 0x000001EA332F21F0>\n",
      "<argoverse.utils.calibration.Calibration object at 0x000001EA2BFB08B0>\n",
      "<argoverse.utils.calibration.Calibration object at 0x000001EA332F2F10>\n",
      "<argoverse.utils.calibration.Calibration object at 0x000001EA332F27C0>\n",
      "<argoverse.utils.calibration.Calibration object at 0x000001EA332F2F70>\n",
      "<argoverse.utils.calibration.Calibration object at 0x000001EA332F2FA0>\n",
      "<argoverse.utils.calibration.Calibration object at 0x000001EA332F2520>\n",
      "<argoverse.utils.calibration.Calibration object at 0x000001EA332F21F0>\n",
      "<argoverse.utils.calibration.Calibration object at 0x000001EA332F27C0>\n",
      "<argoverse.utils.calibration.Calibration object at 0x000001EA332F2520>\n",
      "<argoverse.utils.calibration.Calibration object at 0x000001EA2BFB01C0>\n",
      "<argoverse.utils.calibration.Calibration object at 0x000001EA332F2AF0>\n",
      "<argoverse.utils.calibration.Calibration object at 0x000001EA332F20A0>\n",
      "<argoverse.utils.calibration.Calibration object at 0x000001EA332F2550>\n",
      "<argoverse.utils.calibration.Calibration object at 0x000001EA332F2BE0>\n",
      "<argoverse.utils.calibration.Calibration object at 0x000001EA332F2EB0>\n",
      "<argoverse.utils.calibration.Calibration object at 0x000001EA332F2520>\n",
      "<argoverse.utils.calibration.Calibration object at 0x000001EA332F2D60>\n",
      "<argoverse.utils.calibration.Calibration object at 0x000001EA332F2EB0>\n",
      "<argoverse.utils.calibration.Calibration object at 0x000001EA2BFB08B0>\n",
      "<argoverse.utils.calibration.Calibration object at 0x000001EA332F28B0>\n",
      "<argoverse.utils.calibration.Calibration object at 0x000001EA332F2FA0>\n",
      "<argoverse.utils.calibration.Calibration object at 0x000001EA332F2F70>\n",
      "<argoverse.utils.calibration.Calibration object at 0x000001EA332F2DF0>\n",
      "<argoverse.utils.calibration.Calibration object at 0x000001EA332F26D0>\n",
      "<argoverse.utils.calibration.Calibration object at 0x000001EA332F2EB0>\n",
      "<argoverse.utils.calibration.Calibration object at 0x000001EA332F2FA0>\n",
      "<argoverse.utils.calibration.Calibration object at 0x000001EA332F26D0>\n",
      "<argoverse.utils.calibration.Calibration object at 0x000001EA2BFB08B0>\n",
      "<argoverse.utils.calibration.Calibration object at 0x000001EA332F24F0>\n",
      "<argoverse.utils.calibration.Calibration object at 0x000001EA332F2490>\n",
      "<argoverse.utils.calibration.Calibration object at 0x000001EA332F2910>\n",
      "<argoverse.utils.calibration.Calibration object at 0x000001EA332F2370>\n",
      "<argoverse.utils.calibration.Calibration object at 0x000001EA332F21F0>\n",
      "<argoverse.utils.calibration.Calibration object at 0x000001EA332F26D0>\n",
      "<argoverse.utils.calibration.Calibration object at 0x000001EA332F2490>\n",
      "<argoverse.utils.calibration.Calibration object at 0x000001EA332F21F0>\n",
      "<argoverse.utils.calibration.Calibration object at 0x000001EA2BFB08E0>\n",
      "<argoverse.utils.calibration.Calibration object at 0x000001EA332F2F10>\n",
      "<argoverse.utils.calibration.Calibration object at 0x000001EA332F2DF0>\n",
      "<argoverse.utils.calibration.Calibration object at 0x000001EA332F27C0>\n",
      "<argoverse.utils.calibration.Calibration object at 0x000001EA332F2220>\n",
      "<argoverse.utils.calibration.Calibration object at 0x000001EA332F2520>\n",
      "<argoverse.utils.calibration.Calibration object at 0x000001EA332F21F0>\n",
      "<argoverse.utils.calibration.Calibration object at 0x000001EA332F2DF0>\n",
      "<argoverse.utils.calibration.Calibration object at 0x000001EA332F2520>\n",
      "<argoverse.utils.calibration.Calibration object at 0x000001EA2BFB08B0>\n",
      "<argoverse.utils.calibration.Calibration object at 0x000001EA332F2AF0>\n",
      "<argoverse.utils.calibration.Calibration object at 0x000001EA332F2370>\n",
      "<argoverse.utils.calibration.Calibration object at 0x000001EA332F2D60>\n",
      "<argoverse.utils.calibration.Calibration object at 0x000001EA332F2550>\n",
      "<argoverse.utils.calibration.Calibration object at 0x000001EA332F2EB0>\n",
      "<argoverse.utils.calibration.Calibration object at 0x000001EA332F2520>\n",
      "<argoverse.utils.calibration.Calibration object at 0x000001EA332F2370>\n",
      "<argoverse.utils.calibration.Calibration object at 0x000001EA332F2EB0>\n",
      "<argoverse.utils.calibration.Calibration object at 0x000001EA2BFB08E0>\n",
      "<argoverse.utils.calibration.Calibration object at 0x000001EA332F28B0>\n",
      "<argoverse.utils.calibration.Calibration object at 0x000001EA332F2220>\n",
      "<argoverse.utils.calibration.Calibration object at 0x000001EA332F2FA0>\n",
      "<argoverse.utils.calibration.Calibration object at 0x000001EA332F2F70>\n",
      "<argoverse.utils.calibration.Calibration object at 0x000001EA332F26D0>\n",
      "<argoverse.utils.calibration.Calibration object at 0x000001EA332F2EB0>\n",
      "<argoverse.utils.calibration.Calibration object at 0x000001EA332F2220>\n",
      "<argoverse.utils.calibration.Calibration object at 0x000001EA332F26D0>\n",
      "<argoverse.utils.calibration.Calibration object at 0x000001EA2BFB08B0>\n",
      "<argoverse.utils.calibration.Calibration object at 0x000001EA332F24F0>\n",
      "<argoverse.utils.calibration.Calibration object at 0x000001EA332F2550>\n",
      "<argoverse.utils.calibration.Calibration object at 0x000001EA332F2490>\n",
      "<argoverse.utils.calibration.Calibration object at 0x000001EA332F2910>\n",
      "<argoverse.utils.calibration.Calibration object at 0x000001EA332F21F0>\n",
      "<argoverse.utils.calibration.Calibration object at 0x000001EA332F26D0>\n",
      "<argoverse.utils.calibration.Calibration object at 0x000001EA332F2550>\n",
      "<argoverse.utils.calibration.Calibration object at 0x000001EA332F21F0>\n",
      "<argoverse.utils.calibration.Calibration object at 0x000001EA2BFB08B0>\n",
      "<argoverse.utils.calibration.Calibration object at 0x000001EA332F2F10>\n",
      "<argoverse.utils.calibration.Calibration object at 0x000001EA332F2F70>\n",
      "<argoverse.utils.calibration.Calibration object at 0x000001EA332F2DF0>\n",
      "<argoverse.utils.calibration.Calibration object at 0x000001EA332F27C0>\n",
      "<argoverse.utils.calibration.Calibration object at 0x000001EA332F2520>\n",
      "<argoverse.utils.calibration.Calibration object at 0x000001EA332F21F0>\n",
      "<argoverse.utils.calibration.Calibration object at 0x000001EA332F2F70>\n",
      "<argoverse.utils.calibration.Calibration object at 0x000001EA332F2520>\n",
      "<argoverse.utils.calibration.Calibration object at 0x000001EA2BFB02B0>\n",
      "<argoverse.utils.calibration.Calibration object at 0x000001EA332F2AF0>\n",
      "<argoverse.utils.calibration.Calibration object at 0x000001EA332F2910>\n",
      "<argoverse.utils.calibration.Calibration object at 0x000001EA332F2370>\n",
      "<argoverse.utils.calibration.Calibration object at 0x000001EA332F2D60>\n",
      "<argoverse.utils.calibration.Calibration object at 0x000001EA332F2EB0>\n",
      "<argoverse.utils.calibration.Calibration object at 0x000001EA332F2520>\n",
      "<argoverse.utils.calibration.Calibration object at 0x000001EA332F2910>\n",
      "<argoverse.utils.calibration.Calibration object at 0x000001EA332F2EB0>\n",
      "<argoverse.utils.calibration.Calibration object at 0x000001EA2BFB08E0>\n",
      "<argoverse.utils.calibration.Calibration object at 0x000001EA332F28B0>\n",
      "<argoverse.utils.calibration.Calibration object at 0x000001EA332F27C0>\n",
      "<argoverse.utils.calibration.Calibration object at 0x000001EA332F2220>\n",
      "<argoverse.utils.calibration.Calibration object at 0x000001EA332F2550>\n",
      "<argoverse.utils.calibration.Calibration object at 0x000001EA332F26D0>\n",
      "<argoverse.utils.calibration.Calibration object at 0x000001EA332F2EB0>\n",
      "<argoverse.utils.calibration.Calibration object at 0x000001EA332F27C0>\n",
      "<argoverse.utils.calibration.Calibration object at 0x000001EA332F26D0>\n",
      "<argoverse.utils.calibration.Calibration object at 0x000001EA2BFB08E0>\n",
      "<argoverse.utils.calibration.Calibration object at 0x000001EA332F24F0>\n",
      "<argoverse.utils.calibration.Calibration object at 0x000001EA332F2D60>\n",
      "<argoverse.utils.calibration.Calibration object at 0x000001EA332F2580>\n",
      "<argoverse.utils.calibration.Calibration object at 0x000001EA332F2490>\n",
      "<argoverse.utils.calibration.Calibration object at 0x000001EA332F21F0>\n",
      "<argoverse.utils.calibration.Calibration object at 0x000001EA332F26D0>\n",
      "<argoverse.utils.calibration.Calibration object at 0x000001EA332F2D60>\n",
      "<argoverse.utils.calibration.Calibration object at 0x000001EA332F21F0>\n",
      "<argoverse.utils.calibration.Calibration object at 0x000001EA2BFB08E0>\n",
      "<argoverse.utils.calibration.Calibration object at 0x000001EA332F2F10>\n",
      "<argoverse.utils.calibration.Calibration object at 0x000001EA332F2550>\n",
      "<argoverse.utils.calibration.Calibration object at 0x000001EA332F2F70>\n",
      "<argoverse.utils.calibration.Calibration object at 0x000001EA332F2DF0>\n",
      "<argoverse.utils.calibration.Calibration object at 0x000001EA332F2520>\n",
      "<argoverse.utils.calibration.Calibration object at 0x000001EA332F21F0>\n",
      "<argoverse.utils.calibration.Calibration object at 0x000001EA332F2550>\n",
      "<argoverse.utils.calibration.Calibration object at 0x000001EA332F2520>\n",
      "<argoverse.utils.calibration.Calibration object at 0x000001EA2BFB08B0>\n",
      "<argoverse.utils.calibration.Calibration object at 0x000001EA332F2AF0>\n",
      "<argoverse.utils.calibration.Calibration object at 0x000001EA332F2490>\n",
      "<argoverse.utils.calibration.Calibration object at 0x000001EA332F2910>\n",
      "<argoverse.utils.calibration.Calibration object at 0x000001EA332F2370>\n",
      "<argoverse.utils.calibration.Calibration object at 0x000001EA332F2EB0>\n",
      "<argoverse.utils.calibration.Calibration object at 0x000001EA332F2520>\n",
      "<argoverse.utils.calibration.Calibration object at 0x000001EA332F2490>\n",
      "<argoverse.utils.calibration.Calibration object at 0x000001EA332F2EB0>\n",
      "<argoverse.utils.calibration.Calibration object at 0x000001EA2BFB0820>\n",
      "<argoverse.utils.calibration.Calibration object at 0x000001EA332F2520>\n",
      "<argoverse.utils.calibration.Calibration object at 0x000001EA332F2DF0>\n",
      "<argoverse.utils.calibration.Calibration object at 0x000001EA332F2580>\n",
      "<argoverse.utils.calibration.Calibration object at 0x000001EA332F2220>\n",
      "<argoverse.utils.calibration.Calibration object at 0x000001EA332F2D60>\n",
      "<argoverse.utils.calibration.Calibration object at 0x000001EA332F2EB0>\n",
      "<argoverse.utils.calibration.Calibration object at 0x000001EA332F2DF0>\n",
      "<argoverse.utils.calibration.Calibration object at 0x000001EA332F2D60>\n"
     ]
    }
   ],
   "source": [
    "for log_id in argoverse_loader.log_list:\n",
    "    argoverse_data = argoverse_loader.get(log_id)\n",
    "    for cam in cams:\n",
    "        calibration_data = calibration.load_calib(data_dir+log_id+'/vehicle_calibration_info.json')[cam]\n",
    "#         print(calibration_data)"
   ]
  },
  {
   "cell_type": "code",
   "execution_count": 4,
   "metadata": {},
   "outputs": [
    {
     "ename": "NameError",
     "evalue": "name 'log_id' is not defined",
     "output_type": "error",
     "traceback": [
      "\u001b[1;31m---------------------------------------------------------------------------\u001b[0m",
      "\u001b[1;31mNameError\u001b[0m                                 Traceback (most recent call last)",
      "\u001b[1;32m<ipython-input-4-de799d0774ec>\u001b[0m in \u001b[0;36m<module>\u001b[1;34m\u001b[0m\n\u001b[1;32m----> 1\u001b[1;33m \u001b[0mcalibration_data\u001b[0m \u001b[1;33m=\u001b[0m \u001b[0mcalibration\u001b[0m\u001b[1;33m.\u001b[0m\u001b[0mload_calib\u001b[0m\u001b[1;33m(\u001b[0m\u001b[0mdata_dir\u001b[0m\u001b[1;33m+\u001b[0m\u001b[0mlog_id\u001b[0m\u001b[1;33m+\u001b[0m\u001b[1;34m'/vehicle_calibration_info.json'\u001b[0m\u001b[1;33m)\u001b[0m\u001b[1;33m\u001b[0m\u001b[1;33m\u001b[0m\u001b[0m\n\u001b[0m\u001b[0;32m      2\u001b[0m \u001b[0mprint\u001b[0m\u001b[1;33m(\u001b[0m\u001b[0mcalibration_data\u001b[0m\u001b[1;33m)\u001b[0m\u001b[1;33m\u001b[0m\u001b[1;33m\u001b[0m\u001b[0m\n",
      "\u001b[1;31mNameError\u001b[0m: name 'log_id' is not defined"
     ]
    }
   ],
   "source": [
    "calibration_data = calibration.load_calib(data_dir+log_id+'/vehicle_calibration_info.json')\n",
    "print(calibration_data)"
   ]
  },
  {
   "cell_type": "code",
   "execution_count": null,
   "metadata": {},
   "outputs": [],
   "source": []
  },
  {
   "cell_type": "code",
   "execution_count": 9,
   "metadata": {},
   "outputs": [
    {
     "name": "stderr",
     "output_type": "stream",
     "text": [
      "WARNING:argoverse.data_loading.synchronization_database:No corresponding stereo image at 315967661819717000: 176.11196 > 100.0 ms\n",
      "WARNING:argoverse.data_loading.synchronization_database:No corresponding stereo image at 315967661819717000: 176.107928 > 100.0 ms\n"
     ]
    },
    {
     "name": "stdout",
     "output_type": "stream",
     "text": [
      "\n",
      "Total number of logs: 20\n",
      "#images: 83515\n",
      "#lidar: 3794\n",
      "\n",
      "\n"
     ]
    }
   ],
   "source": [
    "max_d = 100\n",
    "\n",
    "_PathLike = Union[str, 'os.PathLike[str]']\n",
    "\n",
    "def load_ply(ply_fpath: _PathLike) -> np.ndarray:\n",
    "    \"\"\"\n",
    "    Load a point cloud file from a filepath.\n",
    "    Args:\n",
    "        ply_fpath: Path to a PLY file\n",
    "    Returns:\n",
    "        arr: array of shape (N, 3)\n",
    "    \"\"\"\n",
    "    data = pyntcloud.PyntCloud.from_file(os.fspath(ply_fpath))\n",
    "    x = np.array(data.points.x)[:, np.newaxis]\n",
    "    y = np.array(data.points.y)[:, np.newaxis]\n",
    "    z = np.array(data.points.z)[:, np.newaxis]\n",
    "\n",
    "    return np.concatenate((x, y, z), axis=1)\n",
    "\n",
    "data_dir = root_dir + 'train/'\n",
    "goal_dir = root_dir + 'train_test_kitti/'\n",
    "if not os.path.exists(goal_dir):\n",
    "    os.mkdir(goal_dir)\n",
    "    os.mkdir(goal_dir+'velodyne')\n",
    "    os.mkdir(goal_dir+'image_2')\n",
    "    os.mkdir(goal_dir+'image_3')\n",
    "    os.mkdir(goal_dir+'calib')\n",
    "    os.mkdir(goal_dir+'label_2')\n",
    "    os.mkdir(goal_dir+'velodyne_reduced')\n",
    "\n",
    "\n",
    "argoverse_loader = ArgoverseTrackingLoader(data_dir)\n",
    "print('\\nTotal number of logs:',len(argoverse_loader))\n",
    "argoverse_loader.print_all()\n",
    "print('\\n')\n"
   ]
  },
  {
   "cell_type": "code",
   "execution_count": 10,
   "metadata": {},
   "outputs": [],
   "source": [
    "# total_n = 0\n",
    "# for q in argoverse_loader.log_list:\n",
    "#     path, dirs, files = next(os.walk(data_dir + q + '/lidar'))\n",
    "#     total_n = total_n+len(files)\n",
    "\n",
    "# print(total_n)\n",
    "# these are the number of lidar scans, we go ahead and multiply it by 7. For the sake of 7 cameras?\n",
    "# 7 ring cameras and 2 stereo cameras "
   ]
  },
  {
   "cell_type": "code",
   "execution_count": 11,
   "metadata": {},
   "outputs": [
    {
     "ename": "IndexError",
     "evalue": "list index out of range",
     "output_type": "error",
     "traceback": [
      "\u001b[1;31m---------------------------------------------------------------------------\u001b[0m",
      "\u001b[1;31mIndexError\u001b[0m                                Traceback (most recent call last)",
      "\u001b[1;32m<ipython-input-11-72afc1391196>\u001b[0m in \u001b[0;36m<module>\u001b[1;34m\u001b[0m\n\u001b[0;32m     43\u001b[0m             \u001b[0mlidar_data_augmented\u001b[0m\u001b[1;33m.\u001b[0m\u001b[0mtofile\u001b[0m\u001b[1;33m(\u001b[0m\u001b[0mtarget_lidar_file_path\u001b[0m\u001b[1;33m)\u001b[0m\u001b[1;33m\u001b[0m\u001b[1;33m\u001b[0m\u001b[0m\n\u001b[0;32m     44\u001b[0m \u001b[1;33m\u001b[0m\u001b[0m\n\u001b[1;32m---> 45\u001b[1;33m             \u001b[0mcam_file_path\u001b[0m \u001b[1;33m=\u001b[0m \u001b[0margoverse_data\u001b[0m\u001b[1;33m.\u001b[0m\u001b[0mimage_list_sync\u001b[0m\u001b[1;33m[\u001b[0m\u001b[0mcam\u001b[0m\u001b[1;33m]\u001b[0m\u001b[1;33m[\u001b[0m\u001b[0ml\u001b[0m\u001b[1;33m]\u001b[0m\u001b[1;33m\u001b[0m\u001b[1;33m\u001b[0m\u001b[0m\n\u001b[0m\u001b[0;32m     46\u001b[0m             \u001b[0mtarget_cam_file_path\u001b[0m \u001b[1;33m=\u001b[0m \u001b[0mgoal_dir\u001b[0m \u001b[1;33m+\u001b[0m \u001b[1;34m'image_2/'\u001b[0m \u001b[1;33m+\u001b[0m \u001b[0mstr\u001b[0m\u001b[1;33m(\u001b[0m\u001b[0mi\u001b[0m\u001b[1;33m)\u001b[0m\u001b[1;33m.\u001b[0m\u001b[0mzfill\u001b[0m\u001b[1;33m(\u001b[0m\u001b[1;36m6\u001b[0m\u001b[1;33m)\u001b[0m \u001b[1;33m+\u001b[0m \u001b[1;34m'.png'\u001b[0m\u001b[1;33m\u001b[0m\u001b[1;33m\u001b[0m\u001b[0m\n\u001b[0;32m     47\u001b[0m             \u001b[0mcopyfile\u001b[0m\u001b[1;33m(\u001b[0m\u001b[0mcam_file_path\u001b[0m\u001b[1;33m,\u001b[0m \u001b[0mtarget_cam_file_path\u001b[0m\u001b[1;33m)\u001b[0m\u001b[1;33m\u001b[0m\u001b[1;33m\u001b[0m\u001b[0m\n",
      "\u001b[1;31mIndexError\u001b[0m: list index out of range"
     ]
    }
   ],
   "source": [
    "cams = ['stereo_front_left', 'stereo_front_right']\n",
    "i = 0\n",
    "for log_id in argoverse_loader.log_list:\n",
    "    argoverse_data = argoverse_loader.get(log_id)\n",
    "    for cam in cams:\n",
    "        # recreate the calibration file content\n",
    "        # load calibration based on the camera from the cameras list\n",
    "        # because of the for loop, we go camera by camera\n",
    "        calibration_data = calibration.load_calib(data_dir+log_id+'/vehicle_calibration_info.json')[cam]\n",
    "        # create new variable\n",
    "        L3='P2: '\n",
    "        for j in calibration_data.K.reshape(1,12)[0]:\n",
    "            L3 = L3 + str(j) + ' '\n",
    "        L3 = L3[:-1]\n",
    "\n",
    "        L6 = 'Tr_velo_to_cam: '\n",
    "        for k in calibration_data.extrinsic.reshape(1,16)[0][0:12]:\n",
    "            L6 = L6+str(k)+' '\n",
    "        L6 = L6[:-1]\n",
    "\n",
    "        L1 ='P0: 0 0 0 0 0 0 0 0 0 0 0 0'\n",
    "        L2 ='P1: 0 0 0 0 0 0 0 0 0 0 0 0'\n",
    "        L4 ='P3: 0 0 0 0 0 0 0 0 0 0 0 0'\n",
    "        L5 ='R0_rect: 1 0 0 0 1 0 0 0 1'\n",
    "        L7 ='Tr_imu_to_velo: 0 0 0 0 0 0 0 0 0 0 0 0'\n",
    "\n",
    "        file_content = \"\"\"{}\n",
    "{}\n",
    "{}\n",
    "{}\n",
    "{}\n",
    "{}\n",
    "{}\n",
    "        \"\"\".format(L1, L2, L3, L4, L5, L6, L7)\n",
    "        l=0\n",
    "\n",
    "        for timestamp in argoverse_data.lidar_timestamp_list:\n",
    "            lidar_file_path = data_dir + log_id + '/lidar/PC_' + str(timestamp) +'.ply'\n",
    "            target_lidar_file_path = goal_dir + 'velodyne/' + str(i).zfill(6) + '.bin'\n",
    "            lidar_data = load_ply(lidar_file_path)\n",
    "            lidar_data_augmented = np.concatenate((lidar_data, np.zeros([lidar_data.shape[0],1])), axis=1)\n",
    "            lidar_data_augmented = lidar_data_augmented.astype('float32')\n",
    "            lidar_data_augmented.tofile(target_lidar_file_path)\n",
    "\n",
    "            cam_file_path = argoverse_data.image_list_sync[cam][l]\n",
    "            target_cam_file_path = goal_dir + 'image_2/' + str(i).zfill(6) + '.png'\n",
    "            copyfile(cam_file_path, target_cam_file_path)\n",
    "\n",
    "            # cam_file_path = argoverse_data.image_list_sync[cam][l]\n",
    "            # target_cam_file_path = goal_dir + 'image_3/' + str(i).zfill(6) + '.png'\n",
    "            # copyfile(cam_file_path, target_cam_file_path)\n",
    "\n",
    "            file=open(goal_dir + 'calib/' + str(i).zfill(6) + '.txt', 'w+')\n",
    "            file.write(file_content)\n",
    "            file.close()\n",
    "\n",
    "            label_object_list = argoverse_data.get_label_object(l)\n",
    "            file=open(goal_dir + 'label_2/' + str(i).zfill(6) + '.txt', 'w+')\n",
    "            l +=1\n",
    "\n",
    "            for detected_object in label_object_list:\n",
    "                classes = detected_object.label_class\n",
    "                occulusion = round(detected_object.occlusion/25)\n",
    "                height = detected_object.height\n",
    "                length = detected_object.length\n",
    "                width = detected_object.width\n",
    "                truncated = 0\n",
    "\n",
    "                center = detected_object.translation # in ego frame\n",
    "\n",
    "                corners_ego_frame = detected_object.as_3d_bbox()\n",
    "                corners_cam_frame = calibration_data.project_ego_to_cam(corners_ego_frame)\n",
    "                image_corners = calibration_data.project_ego_to_cam(corners_ego_frame)\n",
    "                image_bbox = [min(image_corners[:, 0]), min(image_corners[:,1]),max(image_corners[:,0]),max(image_corners[:,1])]\n",
    "                image_bbox = [round(x) for x in image_bbox]\n",
    "\n",
    "                center_cam_frame = calibration_data.project_ego_to_cam(np.array([center]))\n",
    "\n",
    "                if 0 <center_cam_frame[0][2]<max_d and 0<image_bbox[0]<1920 and 0<image_bbox[1]<1200 and 0<image_bbox[2]<1920 and 0<image_bbox[3]<1200:\n",
    "\n",
    "                    # the center frames we need for KITTI\n",
    "                    p1 = corners_cam_frame[1]\n",
    "                    p5 = corners_cam_frame[5]\n",
    "                    dz = p1[2] - p5[2]\n",
    "                    dx = p1[0] - p5[0]\n",
    "\n",
    "                    angle = math.atan2(dz, dx)\n",
    "                    beta = math.atan2(center_cam_frame[0][2],center_cam_frame[0][0])\n",
    "                    alpha = angle + beta - math.pi/2\n",
    "                    line = classes+ ' {} {} {} {} {} {} {} {} {} {} {} {} {} {} \\n'.format(round(truncated, 2), occulusion, round(alpha,2), round(image_bbox[0],2), round(image_bbox[1], 2),\\\n",
    "                    round(image_bbox[2], 2), round(image_bbox[3], 2), round(height,2), round(width,2), round(length,2),round(center_cam_frame[0][0],2),\n",
    "                    round(center_cam_frame[0][1],2), round(center_cam_frame[0][2],2),round(angle,2))\n",
    "                    file.write(line)\n",
    "            file.close()\n",
    "            i += 1"
   ]
  },
  {
   "cell_type": "code",
   "execution_count": 47,
   "metadata": {},
   "outputs": [
    {
     "name": "stdout",
     "output_type": "stream",
     "text": [
      "[[  1.1149248   -2.146084     0.58089316]\n",
      " [  1.0111252  -11.640176     1.386621  ]\n",
      " [ -0.13876712 -11.654566     1.2477934 ]\n",
      " ...\n",
      " [ -0.033566     5.931162    -0.17467225]\n",
      " [ -0.4496715    6.1416583    0.30140412]\n",
      " [ -1.3329737    9.644014     1.7516748 ]]\n"
     ]
    }
   ],
   "source": [
    "_PathLike = Union[str, 'os.PathLike[str]']\n",
    "\n",
    "def load_ply(ply_fpath: _PathLike) -> np.ndarray:\n",
    "    \"\"\"\n",
    "    Load a point cloud file from a filepath.\n",
    "    Args:\n",
    "        ply_fpath: Path to a PLY file\n",
    "    Returns:\n",
    "        arr: array of shape (N, 3)\n",
    "    \"\"\"\n",
    "    data = pyntcloud.PyntCloud.from_file(os.fspath(ply_fpath))\n",
    "    x = np.array(data.points.x)[:, np.newaxis]\n",
    "    y = np.array(data.points.y)[:, np.newaxis]\n",
    "    z = np.array(data.points.z)[:, np.newaxis]\n",
    "\n",
    "    return np.concatenate((x, y, z), axis=1)\n",
    "\n",
    "lidar_file_path = root_dir + '/train/3d20ae25-5b29-320d-8bae-f03e9dc177b9/lidar/PC_315975023020283000.ply'\n",
    "lidar_data = load_ply(lidar_file_path)\n",
    "print(lidar_data)\n",
    "\n",
    "    "
   ]
  },
  {
   "cell_type": "code",
   "execution_count": 33,
   "metadata": {},
   "outputs": [
    {
     "name": "stdout",
     "output_type": "stream",
     "text": [
      "P2: 3666.737987697073 0.0 1230.5215533709008 0.0 0.0 3666.737987697073 1059.5814244164 0.0 0.0 0.0 1.0 0.\n"
     ]
    }
   ],
   "source": [
    "L3 = L3[:-1]\n",
    "print(L3)"
   ]
  },
  {
   "cell_type": "code",
   "execution_count": 6,
   "metadata": {},
   "outputs": [],
   "source": [
    "paths = os.listdir('./train/')"
   ]
  },
  {
   "cell_type": "code",
   "execution_count": 7,
   "metadata": {},
   "outputs": [
    {
     "name": "stdout",
     "output_type": "stream",
     "text": [
      "./train/043aeba7-14e5-3cde-8a5c-639389b6d3a6\n",
      "./train/10b3a1d8-e56c-38be-aaf7-ef2f862a5c4e\n",
      "./train/10b8dee6-778f-33e4-a946-d842d2d9c3d7\n",
      "./train/11953248-1195-1195-1195-511954366464\n",
      "./train/230970eb-dc2e-3133-b252-ff3c6f5d4284\n",
      "./train/25952736-2595-2595-2595-225953853440\n",
      "./train/26d141ec-f952-3908-b4cc-ae359377424e\n",
      "./train/273c1883-673a-36bf-b124-88311b1a80be\n",
      "./train/3d20ae25-5b29-320d-8bae-f03e9dc177b9\n",
      "./train/64c12551-adb9-36e3-a0c1-e43a0e9f3845\n",
      "./train/6f153f9c-edc5-389f-ac6f-40705c30d97e\n",
      "./train/84c35ea7-1a99-3a0c-a3ea-c5915d68acbc\n",
      "./train/88538208-8853-8853-8853-388539396096\n",
      "./train/8a15674a-ae5c-38e2-bc4b-f4156d384072\n",
      "./train/a073e840-6319-3f0b-843e-f6dccdcc7b77\n",
      "./train/b3def699-884b-3c9e-87e1-1ab76c618e0b\n",
      "./train/c6911883-1843-3727-8eaa-41dc8cda8993\n",
      "./train/dcdcd8b3-0ba1-3218-b2ea-7bb965aad3f0\n",
      "./train/e17eed4f-3ffd-3532-ab89-41a3f24cf226\n",
      "./train/f3fb839e-0aa2-342b-81c3-312b80be44f9\n"
     ]
    }
   ],
   "source": [
    "for i in paths:\n",
    "    complete = os.path.join('./train/' + i)\n",
    "    print(complete)\n"
   ]
  },
  {
   "cell_type": "code",
   "execution_count": 3,
   "metadata": {},
   "outputs": [],
   "source": [
    "# main_dir = 'C://users/cathx/repos/argoverse-api/'\n",
    "root_dir = 'C://Users/cathx/repos/argoverse-api/tracking_train1_v1.1.tar/argoverse-tracking/train1/'\n",
    "paths = os.listdir(root_dir)\n",
    "# paths = os.listdir(main_dir + './train/')\n",
    "# for i in paths:\n",
    "#     complete = os.path.join(main_dir + i)\n",
    "#     print(complete)\n",
    "# # print(paths)"
   ]
  },
  {
   "cell_type": "code",
   "execution_count": 5,
   "metadata": {},
   "outputs": [],
   "source": [
    "for i in paths:\n",
    "    complete = os.path.join(root_dir+ i)\n",
    "#     print(complete)"
   ]
  },
  {
   "cell_type": "code",
   "execution_count": 49,
   "metadata": {},
   "outputs": [],
   "source": [
    "for file in os.listdir(complete):\n",
    "    for root, paths, filenames in os.walk(file + 'stere_front_left', topdown=False):\n",
    "        for count, filename in enumerate(filenames):\n",
    "             os.rename('stereo_front_left'+ str(count) + '.jpg')"
   ]
  },
  {
   "cell_type": "code",
   "execution_count": 11,
   "metadata": {},
   "outputs": [],
   "source": [
    "for file in os.listdir(complete):\n",
    "for root, dirs, files in os.walk(os.listdir(complete), topdown=False):\n",
    "    for name in files:\n",
    "        print(os.path.join(root, name))\n",
    "    for name in dirs:\n",
    "        print(os.path.join(root, name))"
   ]
  },
  {
   "cell_type": "code",
   "execution_count": 2,
   "metadata": {},
   "outputs": [],
   "source": [
    "# for root, dirs, files in os.walk('C://users/cathx/repos/argoverse-api/train/c6911883-1843-3727-8eaa-41dc8cda8993/stereo_front_left/'):\n",
    "# #     for name in files:\n",
    "# #         print(os.path.join(root, name))\n",
    "#     count = 0\n",
    "#     for name in files:\n",
    "#         new_name = 'stereo_front_left' + str(count) + '.jpg'\n",
    "#         os.rename(name, 'stereo_front_left_'+str(count)+'.jpg')\n",
    "#         count +=1"
   ]
  },
  {
   "cell_type": "code",
   "execution_count": 1,
   "metadata": {},
   "outputs": [
    {
     "ename": "NameError",
     "evalue": "name 'root_dir' is not defined",
     "output_type": "error",
     "traceback": [
      "\u001b[1;31m---------------------------------------------------------------------------\u001b[0m",
      "\u001b[1;31mNameError\u001b[0m                                 Traceback (most recent call last)",
      "\u001b[1;32m<ipython-input-1-b3baa76e1246>\u001b[0m in \u001b[0;36m<module>\u001b[1;34m\u001b[0m\n\u001b[0;32m      1\u001b[0m \u001b[1;32mimport\u001b[0m \u001b[0mos\u001b[0m\u001b[1;33m\u001b[0m\u001b[1;33m\u001b[0m\u001b[0m\n\u001b[1;32m----> 2\u001b[1;33m \u001b[1;32mfor\u001b[0m \u001b[0mi\u001b[0m \u001b[1;32min\u001b[0m \u001b[0mos\u001b[0m\u001b[1;33m.\u001b[0m\u001b[0mlistdir\u001b[0m\u001b[1;33m(\u001b[0m\u001b[0mroot_dir\u001b[0m\u001b[1;33m)\u001b[0m\u001b[1;33m:\u001b[0m\u001b[1;33m\u001b[0m\u001b[1;33m\u001b[0m\u001b[0m\n\u001b[0m\u001b[0;32m      3\u001b[0m     \u001b[0mpath\u001b[0m \u001b[1;33m=\u001b[0m \u001b[1;33m(\u001b[0m\u001b[0mmain_dir\u001b[0m \u001b[1;33m+\u001b[0m \u001b[0mi\u001b[0m \u001b[1;33m+\u001b[0m \u001b[1;34m'/stereo_front_right/'\u001b[0m\u001b[1;33m)\u001b[0m\u001b[1;33m\u001b[0m\u001b[1;33m\u001b[0m\u001b[0m\n\u001b[0;32m      4\u001b[0m \u001b[1;33m\u001b[0m\u001b[0m\n\u001b[0;32m      5\u001b[0m     \u001b[1;32mfor\u001b[0m \u001b[0mcount\u001b[0m\u001b[1;33m,\u001b[0m \u001b[0mfilename\u001b[0m \u001b[1;32min\u001b[0m \u001b[0menumerate\u001b[0m\u001b[1;33m(\u001b[0m\u001b[0mos\u001b[0m\u001b[1;33m.\u001b[0m\u001b[0mlistdir\u001b[0m\u001b[1;33m(\u001b[0m\u001b[0mmain_dir\u001b[0m \u001b[1;33m+\u001b[0m \u001b[1;34m'/train/'\u001b[0m \u001b[1;33m+\u001b[0m \u001b[0mi\u001b[0m \u001b[1;33m+\u001b[0m \u001b[1;34m'/stereo_front_right'\u001b[0m\u001b[1;33m)\u001b[0m\u001b[1;33m)\u001b[0m\u001b[1;33m:\u001b[0m\u001b[1;33m\u001b[0m\u001b[1;33m\u001b[0m\u001b[0m\n",
      "\u001b[1;31mNameError\u001b[0m: name 'root_dir' is not defined"
     ]
    }
   ],
   "source": [
    "import os\n",
    "for i in os.listdir(root_dir):\n",
    "    path = (main_dir + i + '/stereo_front_right/')\n",
    "\n",
    "    for count, filename in enumerate(os.listdir(main_dir + '/train/' + i + '/stereo_front_right')):\n",
    "        new_name = 'stereo_front_right_' + \"{:06}.jpg\".format(str(count))\n",
    "        source = path + filename\n",
    "        new_name = path + new_name\n",
    "        \n",
    "        os.rename(source, new_name)"
   ]
  },
  {
   "cell_type": "code",
   "execution_count": 14,
   "metadata": {},
   "outputs": [],
   "source": [
    "root_dir = 'C://Users/cathx/repos/argoverse-api/tracking_train1_v1.1.tar/argoverse-tracking/train/'\n"
   ]
  },
  {
   "cell_type": "code",
   "execution_count": 8,
   "metadata": {},
   "outputs": [],
   "source": [
    "import os\n",
    "for i in os.listdir(root_dir):\n",
    "    path = (root_dir + i + '/stereo_front_right/')\n",
    "\n",
    "    for count, filename in enumerate(os.listdir(root_dir + i + '/stereo_front_right')):\n",
    "        new_name = \"{:06}.jpg\".format((count))\n",
    "        source = path + filename\n",
    "        new_name = path + new_name\n",
    "        \n",
    "        os.rename(source, new_name)"
   ]
  },
  {
   "cell_type": "code",
   "execution_count": null,
   "metadata": {},
   "outputs": [],
   "source": []
  },
  {
   "cell_type": "code",
   "execution_count": 32,
   "metadata": {},
   "outputs": [
    {
     "name": "stdout",
     "output_type": "stream",
     "text": [
      "C://Users/cathx/repos/argoverse-api/tracking_train1_v1.1.tar/argoverse-tracking/train1/train/043aeba7-14e5-3cde-8a5c-639389b6d3a6\n",
      "C://Users/cathx/repos/argoverse-api/tracking_train1_v1.1.tar/argoverse-tracking/train1/train/10b3a1d8-e56c-38be-aaf7-ef2f862a5c4e\n",
      "C://Users/cathx/repos/argoverse-api/tracking_train1_v1.1.tar/argoverse-tracking/train1/train/10b8dee6-778f-33e4-a946-d842d2d9c3d7\n",
      "C://Users/cathx/repos/argoverse-api/tracking_train1_v1.1.tar/argoverse-tracking/train1/train/11953248-1195-1195-1195-511954366464\n",
      "C://Users/cathx/repos/argoverse-api/tracking_train1_v1.1.tar/argoverse-tracking/train1/train/230970eb-dc2e-3133-b252-ff3c6f5d4284\n",
      "C://Users/cathx/repos/argoverse-api/tracking_train1_v1.1.tar/argoverse-tracking/train1/train/25952736-2595-2595-2595-225953853440\n",
      "C://Users/cathx/repos/argoverse-api/tracking_train1_v1.1.tar/argoverse-tracking/train1/train/26d141ec-f952-3908-b4cc-ae359377424e\n",
      "C://Users/cathx/repos/argoverse-api/tracking_train1_v1.1.tar/argoverse-tracking/train1/train/273c1883-673a-36bf-b124-88311b1a80be\n",
      "C://Users/cathx/repos/argoverse-api/tracking_train1_v1.1.tar/argoverse-tracking/train1/train/3d20ae25-5b29-320d-8bae-f03e9dc177b9\n",
      "C://Users/cathx/repos/argoverse-api/tracking_train1_v1.1.tar/argoverse-tracking/train1/train/64c12551-adb9-36e3-a0c1-e43a0e9f3845\n",
      "C://Users/cathx/repos/argoverse-api/tracking_train1_v1.1.tar/argoverse-tracking/train1/train/6f153f9c-edc5-389f-ac6f-40705c30d97e\n",
      "C://Users/cathx/repos/argoverse-api/tracking_train1_v1.1.tar/argoverse-tracking/train1/train/84c35ea7-1a99-3a0c-a3ea-c5915d68acbc\n",
      "C://Users/cathx/repos/argoverse-api/tracking_train1_v1.1.tar/argoverse-tracking/train1/train/88538208-8853-8853-8853-388539396096\n",
      "C://Users/cathx/repos/argoverse-api/tracking_train1_v1.1.tar/argoverse-tracking/train1/train/8a15674a-ae5c-38e2-bc4b-f4156d384072\n",
      "C://Users/cathx/repos/argoverse-api/tracking_train1_v1.1.tar/argoverse-tracking/train1/train/a073e840-6319-3f0b-843e-f6dccdcc7b77\n",
      "C://Users/cathx/repos/argoverse-api/tracking_train1_v1.1.tar/argoverse-tracking/train1/train/b3def699-884b-3c9e-87e1-1ab76c618e0b\n",
      "C://Users/cathx/repos/argoverse-api/tracking_train1_v1.1.tar/argoverse-tracking/train1/train/c6911883-1843-3727-8eaa-41dc8cda8993\n",
      "C://Users/cathx/repos/argoverse-api/tracking_train1_v1.1.tar/argoverse-tracking/train1/train/dcdcd8b3-0ba1-3218-b2ea-7bb965aad3f0\n",
      "C://Users/cathx/repos/argoverse-api/tracking_train1_v1.1.tar/argoverse-tracking/train1/train/e17eed4f-3ffd-3532-ab89-41a3f24cf226\n",
      "C://Users/cathx/repos/argoverse-api/tracking_train1_v1.1.tar/argoverse-tracking/train1/train/f3fb839e-0aa2-342b-81c3-312b80be44f9\n"
     ]
    }
   ],
   "source": [
    "for i in paths:\n",
    "    complete = os.path.join(root_dir + 'train/' + i)\n",
    "    print(complete)"
   ]
  },
  {
   "cell_type": "code",
   "execution_count": 26,
   "metadata": {},
   "outputs": [
    {
     "name": "stdout",
     "output_type": "stream",
     "text": [
      "['city_info.json', 'lidar', 'per_sweep_annotations_amodal', 'poses', 'ring_front_center', 'ring_front_left', 'ring_front_right', 'ring_rear_left', 'ring_rear_right', 'ring_side_left', 'ring_side_right', 'stereo_front_left', 'stereo_front_right', 'track_labels_amodal', 'vehicle_calibration_info.json']\n"
     ]
    }
   ],
   "source": [
    "paths = os.listdir(os.path.join(root_dir + i))\n",
    "print(paths)"
   ]
  },
  {
   "cell_type": "code",
   "execution_count": null,
   "metadata": {},
   "outputs": [],
   "source": [
    "paths = [i for i in os.listdir(root_dir)]"
   ]
  },
  {
   "cell_type": "code",
   "execution_count": 13,
   "metadata": {},
   "outputs": [],
   "source": [
    "# def videos(root_dir):\n",
    "#     for i in os.listdir(root_dir):\n",
    "#         path = (root_dir + i + '/stereo_front_right/')\n",
    "#         print(os.listdir(path))\n",
    "#         images = [img for img in os.listdir(path) if img.endswith(\".jpg\")]\n",
    "\n",
    "#         frame = cv2.imread(os.path.join(path, images[0]))\n",
    "#         height, width, layers = frame.shape\n",
    "\n",
    "#         video_name = 'left_cam.avi'\n",
    "#         fps = 5\n",
    "#         count = 0\n",
    "#         video_name = f('test_vid_{count}'+'avi'\n",
    "#         video = cv2.VideoWriter(os.path.join(root_dir+i+ video_name), 0, fps, (width, height))\n",
    "\n",
    "#         for image in images:\n",
    "#             video.write(cv2.imread(os.path.join(image_folder, image)))\n",
    "\n"
   ]
  },
  {
   "cell_type": "code",
   "execution_count": null,
   "metadata": {},
   "outputs": [],
   "source": [
    "def videos_write(root_dir):\n",
    "    \n",
    "    paths = os.listdir(os.path.join(root_dir + i)\n",
    "    for i in paths:\n",
    "        complete = os.path.join(main_dir + 'train/' + i)\n",
    "        "
   ]
  },
  {
   "cell_type": "code",
   "execution_count": null,
   "metadata": {},
   "outputs": [],
   "source": [
    "for i in os.listdir(main_dir + 'train/'):\n",
    "    path = (main_dir + '/train/' + i + '/stereo_front_right/')\n",
    "\n",
    "    for count, filename in enumerate(os.listdir(main_dir + '/train/' + i + '/stereo_front_right')):\n",
    "        new_name = 'stereo_front_right_' + str(count) + \".jpg\"\n",
    "        source = path + filename\n",
    "        new_name = path + new_name\n",
    "        \n",
    "        os.rename(source, new_name)"
   ]
  },
  {
   "cell_type": "code",
   "execution_count": null,
   "metadata": {},
   "outputs": [],
   "source": [
    "import os\n",
    "for i in os.listdir(root_dir):\n",
    "    path = (root_dir + i + '/stereo_front_right/')\n",
    "\n",
    "    for count, filename in enumerate(os.listdir(root_dir + i + '/stereo_front_right')):\n",
    "        new_name = \"{:06}.jpg\".format((count))\n",
    "        source = path + filename\n",
    "        new_name = path + new_name\n",
    "        \n",
    "        os.rename(source, new_name)"
   ]
  },
  {
   "cell_type": "code",
   "execution_count": 9,
   "metadata": {},
   "outputs": [],
   "source": [
    "from PIL import Image\n",
    "import glob "
   ]
  },
  {
   "cell_type": "code",
   "execution_count": 16,
   "metadata": {},
   "outputs": [
    {
     "ename": "OSError",
     "evalue": "[WinError 123] The filename, directory name, or volume label syntax is incorrect: 'C://Users/cathx/repos/argoverse-api/tracking_train1_v1.1.tar/argoverse-tracking/train/f3fb839e-0aa2-342b-81c3-312b80be44f9/stereo_front_right/*.jpg'",
     "output_type": "error",
     "traceback": [
      "\u001b[1;31m---------------------------------------------------------------------------\u001b[0m",
      "\u001b[1;31mOSError\u001b[0m                                   Traceback (most recent call last)",
      "\u001b[1;32m<ipython-input-16-7cfe5563c099>\u001b[0m in \u001b[0;36m<module>\u001b[1;34m\u001b[0m\n\u001b[1;32m----> 1\u001b[1;33m \u001b[0mimages\u001b[0m \u001b[1;33m=\u001b[0m \u001b[0mglob\u001b[0m\u001b[1;33m.\u001b[0m\u001b[0mglob\u001b[0m\u001b[1;33m(\u001b[0m\u001b[0mos\u001b[0m\u001b[1;33m.\u001b[0m\u001b[0mlistdir\u001b[0m\u001b[1;33m(\u001b[0m\u001b[0mroot_dir\u001b[0m\u001b[1;33m+\u001b[0m\u001b[0mi\u001b[0m\u001b[1;33m+\u001b[0m\u001b[1;34m'/stereo_front_right/*.jpg'\u001b[0m\u001b[1;33m)\u001b[0m\u001b[1;33m)\u001b[0m\u001b[1;33m\u001b[0m\u001b[1;33m\u001b[0m\u001b[0m\n\u001b[0m",
      "\u001b[1;31mOSError\u001b[0m: [WinError 123] The filename, directory name, or volume label syntax is incorrect: 'C://Users/cathx/repos/argoverse-api/tracking_train1_v1.1.tar/argoverse-tracking/train/f3fb839e-0aa2-342b-81c3-312b80be44f9/stereo_front_right/*.jpg'"
     ]
    }
   ],
   "source": []
  },
  {
   "cell_type": "markdown",
   "metadata": {},
   "source": [
    "# Loading Calibration data"
   ]
  },
  {
   "cell_type": "code",
   "execution_count": 28,
   "metadata": {},
   "outputs": [
    {
     "name": "stdout",
     "output_type": "stream",
     "text": [
      "\n",
      "Loading files...\n"
     ]
    }
   ],
   "source": [
    "print('\\nLoading files...')\n",
    "\n",
    "import argoverse\n",
    "from argoverse.data_loading.argoverse_tracking_loader import ArgoverseTrackingLoader\n",
    "import os\n",
    "from shutil import copyfile\n",
    "from argoverse.utils import calibration\n",
    "import json\n",
    "import numpy as np\n",
    "from argoverse.utils.calibration import CameraConfig\n",
    "from argoverse.utils.cv2_plotting_utils import draw_clipped_line_segment\n",
    "from argoverse.utils.se3 import SE3\n",
    "from argoverse.utils.transform import quat2rotmat\n",
    "import math\n",
    "import os\n",
    "from typing import Union\n",
    "import numpy as np\n",
    "import pyntcloud\n",
    "import progressbar\n",
    "from time import sleep"
   ]
  },
  {
   "cell_type": "code",
   "execution_count": 25,
   "metadata": {},
   "outputs": [],
   "source": [
    "root_dir = 'C://users/cathx/repos/argoverse-api/'\n",
    "data_dir = root_dir + '/train/'\n"
   ]
  },
  {
   "cell_type": "code",
   "execution_count": 29,
   "metadata": {},
   "outputs": [],
   "source": [
    "_PathLike = Union[str, \"os.PathLike[str]\"]"
   ]
  },
  {
   "cell_type": "code",
   "execution_count": 30,
   "metadata": {},
   "outputs": [],
   "source": [
    "def load_ply(ply_fpath: _PathLike) -> np.ndarray:\n",
    "    \"\"\"Load a point cloud file from a filepath.\n",
    "    Args:\n",
    "        ply_fpath: Path to a PLY file\n",
    "    Returns:\n",
    "        arr: Array of shape (N, 3)\n",
    "    \"\"\"\n",
    "\n",
    "    data = pyntcloud.PyntCloud.from_file(os.fspath(ply_fpath))\n",
    "    x = np.array(data.points.x)[:, np.newaxis]\n",
    "    y = np.array(data.points.y)[:, np.newaxis]\n",
    "    z = np.array(data.points.z)[:, np.newaxis]\n",
    "\n",
    "    return np.concatenate((x, y, z), axis=1)"
   ]
  },
  {
   "cell_type": "code",
   "execution_count": null,
   "metadata": {},
   "outputs": [],
   "source": []
  },
  {
   "cell_type": "code",
   "execution_count": null,
   "metadata": {},
   "outputs": [],
   "source": []
  },
  {
   "cell_type": "code",
   "execution_count": null,
   "metadata": {},
   "outputs": [],
   "source": []
  },
  {
   "cell_type": "code",
   "execution_count": null,
   "metadata": {},
   "outputs": [],
   "source": []
  },
  {
   "cell_type": "code",
   "execution_count": null,
   "metadata": {},
   "outputs": [],
   "source": []
  },
  {
   "cell_type": "code",
   "execution_count": null,
   "metadata": {},
   "outputs": [],
   "source": []
  },
  {
   "cell_type": "code",
   "execution_count": null,
   "metadata": {},
   "outputs": [],
   "source": []
  },
  {
   "cell_type": "code",
   "execution_count": null,
   "metadata": {},
   "outputs": [],
   "source": []
  },
  {
   "cell_type": "code",
   "execution_count": null,
   "metadata": {},
   "outputs": [],
   "source": []
  },
  {
   "cell_type": "code",
   "execution_count": null,
   "metadata": {},
   "outputs": [],
   "source": []
  },
  {
   "cell_type": "code",
   "execution_count": null,
   "metadata": {},
   "outputs": [],
   "source": []
  }
 ],
 "metadata": {
  "kernelspec": {
   "display_name": "Python 3",
   "language": "python",
   "name": "python3"
  },
  "language_info": {
   "codemirror_mode": {
    "name": "ipython",
    "version": 3
   },
   "file_extension": ".py",
   "mimetype": "text/x-python",
   "name": "python",
   "nbconvert_exporter": "python",
   "pygments_lexer": "ipython3",
   "version": "3.8.5"
  }
 },
 "nbformat": 4,
 "nbformat_minor": 4
}
