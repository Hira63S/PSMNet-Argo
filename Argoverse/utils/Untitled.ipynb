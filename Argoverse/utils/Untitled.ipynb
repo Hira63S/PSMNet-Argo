{
 "cells": [
  {
   "cell_type": "code",
   "execution_count": null,
   "metadata": {},
   "outputs": [],
   "source": []
  },
  {
   "cell_type": "code",
   "execution_count": 8,
   "metadata": {},
   "outputs": [
    {
     "name": "stdout",
     "output_type": "stream",
     "text": [
      "Collecting opencv-contrib-python\n",
      "  Downloading opencv_contrib_python-4.4.0.46-cp38-cp38-win_amd64.whl (40.2 MB)\n",
      "Requirement already satisfied: numpy>=1.17.3 in c:\\users\\cathx\\anaconda3\\lib\\site-packages (from opencv-contrib-python) (1.19.2)\n",
      "Installing collected packages: opencv-contrib-python\n",
      "Successfully installed opencv-contrib-python-4.4.0.46\n"
     ]
    },
    {
     "name": "stderr",
     "output_type": "stream",
     "text": [
      "WARNING: Retrying (Retry(total=4, connect=None, read=None, redirect=None, status=None)) after connection broken by 'ProtocolError('Connection aborted.', ConnectionResetError(10054, 'An existing connection was forcibly closed by the remote host', None, 10054, None))': /simple/opencv-contrib-python/\n"
     ]
    }
   ],
   "source": [
    "!pip install opencv-contrib-python"
   ]
  },
  {
   "cell_type": "code",
   "execution_count": 11,
   "metadata": {},
   "outputs": [],
   "source": [
    "# from argoverse.data_loading.argoverse_tracking_loader import argoverse_tracking_loader\n",
    "from argoverse.data_loading.argoverse_tracking_loader import ArgoverseTrackingLoader\n",
    "\n",
    "from argoverse.utils import calibration"
   ]
  },
  {
   "cell_type": "code",
   "execution_count": 21,
   "metadata": {},
   "outputs": [
    {
     "name": "stdout",
     "output_type": "stream",
     "text": [
      "<argoverse.utils.calibration.Calibration object at 0x0000025F7164E280>\n"
     ]
    },
    {
     "ename": "ValueError",
     "evalue": "cannot reshape array of size 16 into shape (1,12)",
     "output_type": "error",
     "traceback": [
      "\u001b[1;31m---------------------------------------------------------------------------\u001b[0m",
      "\u001b[1;31mValueError\u001b[0m                                Traceback (most recent call last)",
      "\u001b[1;32m<ipython-input-21-918959580a91>\u001b[0m in \u001b[0;36m<module>\u001b[1;34m\u001b[0m\n\u001b[0;32m     20\u001b[0m         \u001b[0mprint\u001b[0m\u001b[1;33m(\u001b[0m\u001b[0mcalibration_data\u001b[0m\u001b[1;33m)\u001b[0m\u001b[1;33m\u001b[0m\u001b[1;33m\u001b[0m\u001b[0m\n\u001b[0;32m     21\u001b[0m         \u001b[0mL3\u001b[0m \u001b[1;33m=\u001b[0m \u001b[1;34m'P2: '\u001b[0m\u001b[1;33m\u001b[0m\u001b[1;33m\u001b[0m\u001b[0m\n\u001b[1;32m---> 22\u001b[1;33m         \u001b[1;32mfor\u001b[0m \u001b[0mj\u001b[0m \u001b[1;32min\u001b[0m \u001b[0mcalibration_data\u001b[0m\u001b[1;33m.\u001b[0m\u001b[0mextrinsic\u001b[0m\u001b[1;33m.\u001b[0m\u001b[0mreshape\u001b[0m\u001b[1;33m(\u001b[0m\u001b[1;36m1\u001b[0m\u001b[1;33m,\u001b[0m \u001b[1;36m12\u001b[0m\u001b[1;33m)\u001b[0m\u001b[1;33m[\u001b[0m\u001b[1;36m0\u001b[0m\u001b[1;33m]\u001b[0m\u001b[1;33m:\u001b[0m\u001b[1;33m\u001b[0m\u001b[1;33m\u001b[0m\u001b[0m\n\u001b[0m\u001b[0;32m     23\u001b[0m             \u001b[0mL3\u001b[0m \u001b[1;33m=\u001b[0m \u001b[0mL3\u001b[0m \u001b[1;33m+\u001b[0m \u001b[0mstr\u001b[0m\u001b[1;33m(\u001b[0m\u001b[0mj\u001b[0m\u001b[1;33m)\u001b[0m \u001b[1;33m+\u001b[0m \u001b[1;34m' '\u001b[0m\u001b[1;33m\u001b[0m\u001b[1;33m\u001b[0m\u001b[0m\n\u001b[0;32m     24\u001b[0m         \u001b[0mL3\u001b[0m \u001b[1;33m=\u001b[0m \u001b[0mL3\u001b[0m\u001b[1;33m[\u001b[0m\u001b[1;33m:\u001b[0m\u001b[1;33m-\u001b[0m\u001b[1;36m1\u001b[0m\u001b[1;33m]\u001b[0m\u001b[1;33m\u001b[0m\u001b[1;33m\u001b[0m\u001b[0m\n",
      "\u001b[1;31mValueError\u001b[0m: cannot reshape array of size 16 into shape (1,12)"
     ]
    }
   ],
   "source": [
    "argoverse_loader = ArgoverseTrackingLoader('./tracking_sample_v1.1.tar/argoverse-tracking/sample/')\n",
    "\n",
    "cams = ['ring_front_center',\n",
    "'ring_front_left',\n",
    "'ring_front_right',\n",
    "'ring_rear_left',\n",
    "'ring_rear_right',\n",
    "'ring_side_left',\n",
    "'ring_side_right',\n",
    "'stereo_front_left',\n",
    "'stereo_front_right']\n",
    "data_dir = 'C://users/cathx/repos/argoverse-api/tracking_sample_v1.1.tar/argoverse-tracking/sample/'\n",
    "for log_id in argoverse_loader.log_list:\n",
    "    argoverse_data = argoverse_loader.get(log_id)\n",
    "    for cam in cams:\n",
    "        # recreate the calibration file content\n",
    "        # load calibration based on the camera from the cameras list\n",
    "        # because of the for loop, we go camera by camera \n",
    "        calibration_data = calibration.load_calib(data_dir+log_id+'/vehicle_calibration_info.json')[cam]\n",
    "        print(calibration_data)\n",
    "        L3 = 'P2: '\n",
    "        for j in calibration_data.K.reshape(1, 12)[0]:\n",
    "            L3 = L3 + str(j) + ' '\n",
    "        L3 = L3[:-1]\n",
    "        \n",
    "        L6 = 'Tr_velo_to_cam: '\n",
    "        for k in calibration_data.extrinsic.reshape(1, 16)[0][0:12]:\n",
    "            L6 = L6 + str(K) + ' '\n",
    "        L6 = L6[:-1]\n",
    "        \n",
    "        L1 ='P0: 0 0 0 0 0 0 0 0 0 0 0 0'\n",
    "        L2 ='P1: 0 0 0 0 0 0 0 0 0 0 0 0'\n",
    "        L4 ='P3: 0 0 0 0 0 0 0 0 0 0 0 0'\n",
    "        L5 ='R0_rect: 1 0 0 0 1 0 0 0 1'\n",
    "        L7 ='Tr_imu_to_velo: 0 0 0 0 0 0 0 0 0 0 0 0'\n",
    "        \n",
    "        print(L1)\n",
    "        "
   ]
  },
  {
   "cell_type": "code",
   "execution_count": 5,
   "metadata": {},
   "outputs": [],
   "source": [
    "import os"
   ]
  },
  {
   "cell_type": "code",
   "execution_count": 6,
   "metadata": {},
   "outputs": [],
   "source": [
    "paths = os.listdir('./train/')"
   ]
  },
  {
   "cell_type": "code",
   "execution_count": 7,
   "metadata": {},
   "outputs": [
    {
     "name": "stdout",
     "output_type": "stream",
     "text": [
      "./train/043aeba7-14e5-3cde-8a5c-639389b6d3a6\n",
      "./train/10b3a1d8-e56c-38be-aaf7-ef2f862a5c4e\n",
      "./train/10b8dee6-778f-33e4-a946-d842d2d9c3d7\n",
      "./train/11953248-1195-1195-1195-511954366464\n",
      "./train/230970eb-dc2e-3133-b252-ff3c6f5d4284\n",
      "./train/25952736-2595-2595-2595-225953853440\n",
      "./train/26d141ec-f952-3908-b4cc-ae359377424e\n",
      "./train/273c1883-673a-36bf-b124-88311b1a80be\n",
      "./train/3d20ae25-5b29-320d-8bae-f03e9dc177b9\n",
      "./train/64c12551-adb9-36e3-a0c1-e43a0e9f3845\n",
      "./train/6f153f9c-edc5-389f-ac6f-40705c30d97e\n",
      "./train/84c35ea7-1a99-3a0c-a3ea-c5915d68acbc\n",
      "./train/88538208-8853-8853-8853-388539396096\n",
      "./train/8a15674a-ae5c-38e2-bc4b-f4156d384072\n",
      "./train/a073e840-6319-3f0b-843e-f6dccdcc7b77\n",
      "./train/b3def699-884b-3c9e-87e1-1ab76c618e0b\n",
      "./train/c6911883-1843-3727-8eaa-41dc8cda8993\n",
      "./train/dcdcd8b3-0ba1-3218-b2ea-7bb965aad3f0\n",
      "./train/e17eed4f-3ffd-3532-ab89-41a3f24cf226\n",
      "./train/f3fb839e-0aa2-342b-81c3-312b80be44f9\n"
     ]
    }
   ],
   "source": [
    "for i in paths:\n",
    "    complete = os.path.join('./train/' + i)\n",
    "    print(complete)\n"
   ]
  },
  {
   "cell_type": "code",
   "execution_count": 3,
   "metadata": {},
   "outputs": [],
   "source": [
    "# main_dir = 'C://users/cathx/repos/argoverse-api/'\n",
    "root_dir = 'C://Users/cathx/repos/argoverse-api/tracking_train1_v1.1.tar/argoverse-tracking/train1/'\n",
    "paths = os.listdir(root_dir)\n",
    "# paths = os.listdir(main_dir + './train/')\n",
    "# for i in paths:\n",
    "#     complete = os.path.join(main_dir + i)\n",
    "#     print(complete)\n",
    "# # print(paths)"
   ]
  },
  {
   "cell_type": "code",
   "execution_count": 5,
   "metadata": {},
   "outputs": [],
   "source": [
    "for i in paths:\n",
    "    complete = os.path.join(root_dir+ i)\n",
    "#     print(complete)"
   ]
  },
  {
   "cell_type": "code",
   "execution_count": 49,
   "metadata": {},
   "outputs": [],
   "source": [
    "for file in os.listdir(complete):\n",
    "    for root, paths, filenames in os.walk(file + 'stere_front_left', topdown=False):\n",
    "        for count, filename in enumerate(filenames):\n",
    "             os.rename('stereo_front_left'+ str(count) + '.jpg')"
   ]
  },
  {
   "cell_type": "code",
   "execution_count": 11,
   "metadata": {},
   "outputs": [],
   "source": [
    "for file in os.listdir(complete):\n",
    "for root, dirs, files in os.walk(os.listdir(complete), topdown=False):\n",
    "    for name in files:\n",
    "        print(os.path.join(root, name))\n",
    "    for name in dirs:\n",
    "        print(os.path.join(root, name))"
   ]
  },
  {
   "cell_type": "code",
   "execution_count": 2,
   "metadata": {},
   "outputs": [],
   "source": [
    "# for root, dirs, files in os.walk('C://users/cathx/repos/argoverse-api/train/c6911883-1843-3727-8eaa-41dc8cda8993/stereo_front_left/'):\n",
    "# #     for name in files:\n",
    "# #         print(os.path.join(root, name))\n",
    "#     count = 0\n",
    "#     for name in files:\n",
    "#         new_name = 'stereo_front_left' + str(count) + '.jpg'\n",
    "#         os.rename(name, 'stereo_front_left_'+str(count)+'.jpg')\n",
    "#         count +=1"
   ]
  },
  {
   "cell_type": "code",
   "execution_count": 1,
   "metadata": {},
   "outputs": [
    {
     "ename": "NameError",
     "evalue": "name 'root_dir' is not defined",
     "output_type": "error",
     "traceback": [
      "\u001b[1;31m---------------------------------------------------------------------------\u001b[0m",
      "\u001b[1;31mNameError\u001b[0m                                 Traceback (most recent call last)",
      "\u001b[1;32m<ipython-input-1-b3baa76e1246>\u001b[0m in \u001b[0;36m<module>\u001b[1;34m\u001b[0m\n\u001b[0;32m      1\u001b[0m \u001b[1;32mimport\u001b[0m \u001b[0mos\u001b[0m\u001b[1;33m\u001b[0m\u001b[1;33m\u001b[0m\u001b[0m\n\u001b[1;32m----> 2\u001b[1;33m \u001b[1;32mfor\u001b[0m \u001b[0mi\u001b[0m \u001b[1;32min\u001b[0m \u001b[0mos\u001b[0m\u001b[1;33m.\u001b[0m\u001b[0mlistdir\u001b[0m\u001b[1;33m(\u001b[0m\u001b[0mroot_dir\u001b[0m\u001b[1;33m)\u001b[0m\u001b[1;33m:\u001b[0m\u001b[1;33m\u001b[0m\u001b[1;33m\u001b[0m\u001b[0m\n\u001b[0m\u001b[0;32m      3\u001b[0m     \u001b[0mpath\u001b[0m \u001b[1;33m=\u001b[0m \u001b[1;33m(\u001b[0m\u001b[0mmain_dir\u001b[0m \u001b[1;33m+\u001b[0m \u001b[0mi\u001b[0m \u001b[1;33m+\u001b[0m \u001b[1;34m'/stereo_front_right/'\u001b[0m\u001b[1;33m)\u001b[0m\u001b[1;33m\u001b[0m\u001b[1;33m\u001b[0m\u001b[0m\n\u001b[0;32m      4\u001b[0m \u001b[1;33m\u001b[0m\u001b[0m\n\u001b[0;32m      5\u001b[0m     \u001b[1;32mfor\u001b[0m \u001b[0mcount\u001b[0m\u001b[1;33m,\u001b[0m \u001b[0mfilename\u001b[0m \u001b[1;32min\u001b[0m \u001b[0menumerate\u001b[0m\u001b[1;33m(\u001b[0m\u001b[0mos\u001b[0m\u001b[1;33m.\u001b[0m\u001b[0mlistdir\u001b[0m\u001b[1;33m(\u001b[0m\u001b[0mmain_dir\u001b[0m \u001b[1;33m+\u001b[0m \u001b[1;34m'/train/'\u001b[0m \u001b[1;33m+\u001b[0m \u001b[0mi\u001b[0m \u001b[1;33m+\u001b[0m \u001b[1;34m'/stereo_front_right'\u001b[0m\u001b[1;33m)\u001b[0m\u001b[1;33m)\u001b[0m\u001b[1;33m:\u001b[0m\u001b[1;33m\u001b[0m\u001b[1;33m\u001b[0m\u001b[0m\n",
      "\u001b[1;31mNameError\u001b[0m: name 'root_dir' is not defined"
     ]
    }
   ],
   "source": [
    "import os\n",
    "for i in os.listdir(root_dir):\n",
    "    path = (main_dir + i + '/stereo_front_right/')\n",
    "\n",
    "    for count, filename in enumerate(os.listdir(main_dir + '/train/' + i + '/stereo_front_right')):\n",
    "        new_name = 'stereo_front_right_' + \"{:06}.jpg\".format(str(count))\n",
    "        source = path + filename\n",
    "        new_name = path + new_name\n",
    "        \n",
    "        os.rename(source, new_name)"
   ]
  },
  {
   "cell_type": "code",
   "execution_count": 14,
   "metadata": {},
   "outputs": [],
   "source": [
    "root_dir = 'C://Users/cathx/repos/argoverse-api/tracking_train1_v1.1.tar/argoverse-tracking/train/'\n"
   ]
  },
  {
   "cell_type": "code",
   "execution_count": 8,
   "metadata": {},
   "outputs": [],
   "source": [
    "import os\n",
    "for i in os.listdir(root_dir):\n",
    "    path = (root_dir + i + '/stereo_front_right/')\n",
    "\n",
    "    for count, filename in enumerate(os.listdir(root_dir + i + '/stereo_front_right')):\n",
    "        new_name = \"{:06}.jpg\".format((count))\n",
    "        source = path + filename\n",
    "        new_name = path + new_name\n",
    "        \n",
    "        os.rename(source, new_name)"
   ]
  },
  {
   "cell_type": "code",
   "execution_count": null,
   "metadata": {},
   "outputs": [],
   "source": []
  },
  {
   "cell_type": "code",
   "execution_count": 32,
   "metadata": {},
   "outputs": [
    {
     "name": "stdout",
     "output_type": "stream",
     "text": [
      "C://Users/cathx/repos/argoverse-api/tracking_train1_v1.1.tar/argoverse-tracking/train1/train/043aeba7-14e5-3cde-8a5c-639389b6d3a6\n",
      "C://Users/cathx/repos/argoverse-api/tracking_train1_v1.1.tar/argoverse-tracking/train1/train/10b3a1d8-e56c-38be-aaf7-ef2f862a5c4e\n",
      "C://Users/cathx/repos/argoverse-api/tracking_train1_v1.1.tar/argoverse-tracking/train1/train/10b8dee6-778f-33e4-a946-d842d2d9c3d7\n",
      "C://Users/cathx/repos/argoverse-api/tracking_train1_v1.1.tar/argoverse-tracking/train1/train/11953248-1195-1195-1195-511954366464\n",
      "C://Users/cathx/repos/argoverse-api/tracking_train1_v1.1.tar/argoverse-tracking/train1/train/230970eb-dc2e-3133-b252-ff3c6f5d4284\n",
      "C://Users/cathx/repos/argoverse-api/tracking_train1_v1.1.tar/argoverse-tracking/train1/train/25952736-2595-2595-2595-225953853440\n",
      "C://Users/cathx/repos/argoverse-api/tracking_train1_v1.1.tar/argoverse-tracking/train1/train/26d141ec-f952-3908-b4cc-ae359377424e\n",
      "C://Users/cathx/repos/argoverse-api/tracking_train1_v1.1.tar/argoverse-tracking/train1/train/273c1883-673a-36bf-b124-88311b1a80be\n",
      "C://Users/cathx/repos/argoverse-api/tracking_train1_v1.1.tar/argoverse-tracking/train1/train/3d20ae25-5b29-320d-8bae-f03e9dc177b9\n",
      "C://Users/cathx/repos/argoverse-api/tracking_train1_v1.1.tar/argoverse-tracking/train1/train/64c12551-adb9-36e3-a0c1-e43a0e9f3845\n",
      "C://Users/cathx/repos/argoverse-api/tracking_train1_v1.1.tar/argoverse-tracking/train1/train/6f153f9c-edc5-389f-ac6f-40705c30d97e\n",
      "C://Users/cathx/repos/argoverse-api/tracking_train1_v1.1.tar/argoverse-tracking/train1/train/84c35ea7-1a99-3a0c-a3ea-c5915d68acbc\n",
      "C://Users/cathx/repos/argoverse-api/tracking_train1_v1.1.tar/argoverse-tracking/train1/train/88538208-8853-8853-8853-388539396096\n",
      "C://Users/cathx/repos/argoverse-api/tracking_train1_v1.1.tar/argoverse-tracking/train1/train/8a15674a-ae5c-38e2-bc4b-f4156d384072\n",
      "C://Users/cathx/repos/argoverse-api/tracking_train1_v1.1.tar/argoverse-tracking/train1/train/a073e840-6319-3f0b-843e-f6dccdcc7b77\n",
      "C://Users/cathx/repos/argoverse-api/tracking_train1_v1.1.tar/argoverse-tracking/train1/train/b3def699-884b-3c9e-87e1-1ab76c618e0b\n",
      "C://Users/cathx/repos/argoverse-api/tracking_train1_v1.1.tar/argoverse-tracking/train1/train/c6911883-1843-3727-8eaa-41dc8cda8993\n",
      "C://Users/cathx/repos/argoverse-api/tracking_train1_v1.1.tar/argoverse-tracking/train1/train/dcdcd8b3-0ba1-3218-b2ea-7bb965aad3f0\n",
      "C://Users/cathx/repos/argoverse-api/tracking_train1_v1.1.tar/argoverse-tracking/train1/train/e17eed4f-3ffd-3532-ab89-41a3f24cf226\n",
      "C://Users/cathx/repos/argoverse-api/tracking_train1_v1.1.tar/argoverse-tracking/train1/train/f3fb839e-0aa2-342b-81c3-312b80be44f9\n"
     ]
    }
   ],
   "source": [
    "for i in paths:\n",
    "    complete = os.path.join(root_dir + 'train/' + i)\n",
    "    print(complete)"
   ]
  },
  {
   "cell_type": "code",
   "execution_count": 26,
   "metadata": {},
   "outputs": [
    {
     "name": "stdout",
     "output_type": "stream",
     "text": [
      "['city_info.json', 'lidar', 'per_sweep_annotations_amodal', 'poses', 'ring_front_center', 'ring_front_left', 'ring_front_right', 'ring_rear_left', 'ring_rear_right', 'ring_side_left', 'ring_side_right', 'stereo_front_left', 'stereo_front_right', 'track_labels_amodal', 'vehicle_calibration_info.json']\n"
     ]
    }
   ],
   "source": [
    "paths = os.listdir(os.path.join(root_dir + i))\n",
    "print(paths)"
   ]
  },
  {
   "cell_type": "code",
   "execution_count": null,
   "metadata": {},
   "outputs": [],
   "source": [
    "paths = [i for i in os.listdir(root_dir)]"
   ]
  },
  {
   "cell_type": "code",
   "execution_count": 13,
   "metadata": {},
   "outputs": [],
   "source": [
    "# def videos(root_dir):\n",
    "#     for i in os.listdir(root_dir):\n",
    "#         path = (root_dir + i + '/stereo_front_right/')\n",
    "#         print(os.listdir(path))\n",
    "#         images = [img for img in os.listdir(path) if img.endswith(\".jpg\")]\n",
    "\n",
    "#         frame = cv2.imread(os.path.join(path, images[0]))\n",
    "#         height, width, layers = frame.shape\n",
    "\n",
    "#         video_name = 'left_cam.avi'\n",
    "#         fps = 5\n",
    "#         count = 0\n",
    "#         video_name = f('test_vid_{count}'+'avi'\n",
    "#         video = cv2.VideoWriter(os.path.join(root_dir+i+ video_name), 0, fps, (width, height))\n",
    "\n",
    "#         for image in images:\n",
    "#             video.write(cv2.imread(os.path.join(image_folder, image)))\n",
    "\n"
   ]
  },
  {
   "cell_type": "code",
   "execution_count": null,
   "metadata": {},
   "outputs": [],
   "source": [
    "def videos_write(root_dir):\n",
    "    \n",
    "    paths = os.listdir(os.path.join(root_dir + i)\n",
    "    for i in paths:\n",
    "        complete = os.path.join(main_dir + 'train/' + i)\n",
    "        "
   ]
  },
  {
   "cell_type": "code",
   "execution_count": null,
   "metadata": {},
   "outputs": [],
   "source": [
    "for i in os.listdir(main_dir + 'train/'):\n",
    "    path = (main_dir + '/train/' + i + '/stereo_front_right/')\n",
    "\n",
    "    for count, filename in enumerate(os.listdir(main_dir + '/train/' + i + '/stereo_front_right')):\n",
    "        new_name = 'stereo_front_right_' + str(count) + \".jpg\"\n",
    "        source = path + filename\n",
    "        new_name = path + new_name\n",
    "        \n",
    "        os.rename(source, new_name)"
   ]
  },
  {
   "cell_type": "code",
   "execution_count": null,
   "metadata": {},
   "outputs": [],
   "source": [
    "import os\n",
    "for i in os.listdir(root_dir):\n",
    "    path = (root_dir + i + '/stereo_front_right/')\n",
    "\n",
    "    for count, filename in enumerate(os.listdir(root_dir + i + '/stereo_front_right')):\n",
    "        new_name = \"{:06}.jpg\".format((count))\n",
    "        source = path + filename\n",
    "        new_name = path + new_name\n",
    "        \n",
    "        os.rename(source, new_name)"
   ]
  },
  {
   "cell_type": "code",
   "execution_count": 9,
   "metadata": {},
   "outputs": [],
   "source": [
    "from PIL import Image\n",
    "import glob "
   ]
  },
  {
   "cell_type": "code",
   "execution_count": 16,
   "metadata": {},
   "outputs": [
    {
     "ename": "OSError",
     "evalue": "[WinError 123] The filename, directory name, or volume label syntax is incorrect: 'C://Users/cathx/repos/argoverse-api/tracking_train1_v1.1.tar/argoverse-tracking/train/f3fb839e-0aa2-342b-81c3-312b80be44f9/stereo_front_right/*.jpg'",
     "output_type": "error",
     "traceback": [
      "\u001b[1;31m---------------------------------------------------------------------------\u001b[0m",
      "\u001b[1;31mOSError\u001b[0m                                   Traceback (most recent call last)",
      "\u001b[1;32m<ipython-input-16-7cfe5563c099>\u001b[0m in \u001b[0;36m<module>\u001b[1;34m\u001b[0m\n\u001b[1;32m----> 1\u001b[1;33m \u001b[0mimages\u001b[0m \u001b[1;33m=\u001b[0m \u001b[0mglob\u001b[0m\u001b[1;33m.\u001b[0m\u001b[0mglob\u001b[0m\u001b[1;33m(\u001b[0m\u001b[0mos\u001b[0m\u001b[1;33m.\u001b[0m\u001b[0mlistdir\u001b[0m\u001b[1;33m(\u001b[0m\u001b[0mroot_dir\u001b[0m\u001b[1;33m+\u001b[0m\u001b[0mi\u001b[0m\u001b[1;33m+\u001b[0m\u001b[1;34m'/stereo_front_right/*.jpg'\u001b[0m\u001b[1;33m)\u001b[0m\u001b[1;33m)\u001b[0m\u001b[1;33m\u001b[0m\u001b[1;33m\u001b[0m\u001b[0m\n\u001b[0m",
      "\u001b[1;31mOSError\u001b[0m: [WinError 123] The filename, directory name, or volume label syntax is incorrect: 'C://Users/cathx/repos/argoverse-api/tracking_train1_v1.1.tar/argoverse-tracking/train/f3fb839e-0aa2-342b-81c3-312b80be44f9/stereo_front_right/*.jpg'"
     ]
    }
   ],
   "source": []
  },
  {
   "cell_type": "markdown",
   "metadata": {},
   "source": [
    "# Loading Calibration data"
   ]
  },
  {
   "cell_type": "code",
   "execution_count": 28,
   "metadata": {},
   "outputs": [
    {
     "name": "stdout",
     "output_type": "stream",
     "text": [
      "\n",
      "Loading files...\n"
     ]
    }
   ],
   "source": [
    "print('\\nLoading files...')\n",
    "\n",
    "import argoverse\n",
    "from argoverse.data_loading.argoverse_tracking_loader import ArgoverseTrackingLoader\n",
    "import os\n",
    "from shutil import copyfile\n",
    "from argoverse.utils import calibration\n",
    "import json\n",
    "import numpy as np\n",
    "from argoverse.utils.calibration import CameraConfig\n",
    "from argoverse.utils.cv2_plotting_utils import draw_clipped_line_segment\n",
    "from argoverse.utils.se3 import SE3\n",
    "from argoverse.utils.transform import quat2rotmat\n",
    "import math\n",
    "import os\n",
    "from typing import Union\n",
    "import numpy as np\n",
    "import pyntcloud\n",
    "import progressbar\n",
    "from time import sleep"
   ]
  },
  {
   "cell_type": "code",
   "execution_count": 25,
   "metadata": {},
   "outputs": [],
   "source": [
    "root_dir = 'C://users/cathx/repos/argoverse-api/'\n",
    "data_dir = root_dir + '/train/'\n"
   ]
  },
  {
   "cell_type": "code",
   "execution_count": 29,
   "metadata": {},
   "outputs": [],
   "source": [
    "_PathLike = Union[str, \"os.PathLike[str]\"]"
   ]
  },
  {
   "cell_type": "code",
   "execution_count": 30,
   "metadata": {},
   "outputs": [],
   "source": [
    "def load_ply(ply_fpath: _PathLike) -> np.ndarray:\n",
    "    \"\"\"Load a point cloud file from a filepath.\n",
    "    Args:\n",
    "        ply_fpath: Path to a PLY file\n",
    "    Returns:\n",
    "        arr: Array of shape (N, 3)\n",
    "    \"\"\"\n",
    "\n",
    "    data = pyntcloud.PyntCloud.from_file(os.fspath(ply_fpath))\n",
    "    x = np.array(data.points.x)[:, np.newaxis]\n",
    "    y = np.array(data.points.y)[:, np.newaxis]\n",
    "    z = np.array(data.points.z)[:, np.newaxis]\n",
    "\n",
    "    return np.concatenate((x, y, z), axis=1)"
   ]
  },
  {
   "cell_type": "code",
   "execution_count": null,
   "metadata": {},
   "outputs": [],
   "source": []
  },
  {
   "cell_type": "code",
   "execution_count": null,
   "metadata": {},
   "outputs": [],
   "source": []
  },
  {
   "cell_type": "code",
   "execution_count": null,
   "metadata": {},
   "outputs": [],
   "source": []
  },
  {
   "cell_type": "code",
   "execution_count": null,
   "metadata": {},
   "outputs": [],
   "source": []
  },
  {
   "cell_type": "code",
   "execution_count": null,
   "metadata": {},
   "outputs": [],
   "source": []
  },
  {
   "cell_type": "code",
   "execution_count": null,
   "metadata": {},
   "outputs": [],
   "source": []
  },
  {
   "cell_type": "code",
   "execution_count": null,
   "metadata": {},
   "outputs": [],
   "source": []
  },
  {
   "cell_type": "code",
   "execution_count": null,
   "metadata": {},
   "outputs": [],
   "source": []
  },
  {
   "cell_type": "code",
   "execution_count": null,
   "metadata": {},
   "outputs": [],
   "source": []
  },
  {
   "cell_type": "code",
   "execution_count": null,
   "metadata": {},
   "outputs": [],
   "source": []
  },
  {
   "cell_type": "code",
   "execution_count": null,
   "metadata": {},
   "outputs": [],
   "source": []
  }
 ],
 "metadata": {
  "kernelspec": {
   "display_name": "Python 3",
   "language": "python",
   "name": "python3"
  },
  "language_info": {
   "codemirror_mode": {
    "name": "ipython",
    "version": 3
   },
   "file_extension": ".py",
   "mimetype": "text/x-python",
   "name": "python",
   "nbconvert_exporter": "python",
   "pygments_lexer": "ipython3",
   "version": "3.8.5"
  }
 },
 "nbformat": 4,
 "nbformat_minor": 4
}
